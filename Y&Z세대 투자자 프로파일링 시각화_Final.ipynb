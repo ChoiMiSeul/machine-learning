{
 "cells": [
  {
   "cell_type": "markdown",
   "metadata": {},
   "source": [
    "## Y&Z세대 투자자 프로파일링 대회 시각화 부문"
   ]
  },
  {
   "cell_type": "markdown",
   "metadata": {},
   "source": [
    "#### 서론\n",
    "올해는 그 어느 해보다 YZ세대에서 주식에 대한 관심이 뜨거웠습니다.   \n",
    "코로나 사태로 인해 하락한 주가, 0%대의 은행 금리, 복잡해진 부동산 정책으로 평소라면 은행과 부동산에 있을 자금이 주식시장에 대거 유입되었습니다.   \n",
    "이런 시대에 주식에 투자하고 있는 투자자들에 대한 세대별 갖가지 분석을 진행해보도록 하겠습니다."
   ]
  },
  {
   "cell_type": "markdown",
   "metadata": {},
   "source": [
    "#### 본론\n",
    "고객 등급별 투자성향 및 투자성향별 고객 등급  \n",
    "투자유형별 많이 거래한 상위 5개 국내 종목명  \n",
    "세대별 많이 거래한 상위 5개 국내 종목명  \n",
    "세대별 평균 고객 등급  \n",
    "연령별/세대별 투자 성향과 주문매체  \n",
    "시도별 투자 성향과 고객등급  \n",
    "세대별 거래통화코드  \n",
    "세대별 매도매수 개수 비교  \n",
    "코로나사태에 의한 바이오주 매매 변화량"
   ]
  },
  {
   "cell_type": "code",
   "execution_count": 123,
   "metadata": {},
   "outputs": [
    {
     "ename": "SyntaxError",
     "evalue": "(unicode error) 'unicodeescape' codec can't decode bytes in position 2-3: truncated \\UXXXXXXXX escape (<ipython-input-123-9df11d38a570>, line 3)",
     "output_type": "error",
     "traceback": [
      "\u001b[1;36m  File \u001b[1;32m\"<ipython-input-123-9df11d38a570>\"\u001b[1;36m, line \u001b[1;32m3\u001b[0m\n\u001b[1;33m    submission.to_csv('C:\\Users\\Administrator\\Desktop',index=False)\u001b[0m\n\u001b[1;37m                     ^\u001b[0m\n\u001b[1;31mSyntaxError\u001b[0m\u001b[1;31m:\u001b[0m (unicode error) 'unicodeescape' codec can't decode bytes in position 2-3: truncated \\UXXXXXXXX escape\n"
     ]
    }
   ],
   "source": [
    "submit=pd.read_csv('https://drive.google.com/uc?export=download&id=1jZmAojfZIIB1Bku0DDdH0DPVnJSXRR9n')\n",
    "submission=test[['time','team','join']]\n",
    "submission.to_csv('C:\\Users\\Administrator\\Desktop',index=False)"
   ]
  },
  {
   "cell_type": "markdown",
   "metadata": {},
   "source": [
    "### 필요 라이브러리 import"
   ]
  },
  {
   "cell_type": "code",
   "execution_count": 1,
   "metadata": {},
   "outputs": [],
   "source": [
    "import numpy as np\n",
    "import pandas as pd\n",
    "import copy\n",
    "import collections\n",
    "from scipy import linalg\n",
    "import math\n",
    "from collections import defaultdict\n",
    "import matplotlib.pyplot as plt\n",
    "import seaborn as sns\n",
    "from PIL import Image\n",
    "from sklearn import datasets\n",
    "from sklearn.model_selection import train_test_split\n",
    "from sklearn.preprocessing import StandardScaler\n",
    "from sklearn.linear_model import Perceptron, LinearRegression\n",
    "from sklearn.metrics import classification_report, confusion_matrix\n",
    "from sklearn.neighbors import KNeighborsClassifier\n",
    "import sklearn.metrics as metrics\n",
    "from sklearn.ensemble import RandomForestClassifier\n",
    "from sklearn.metrics import classification_report\n",
    "from sklearn.tree import DecisionTreeClassifier\n",
    "from sklearn.tree import export_graphviz\n",
    "from IPython.display import Image\n",
    "#import graphviz\n",
    "from IPython.display import display\n",
    "#import pydotplus\n",
    "import os\n",
    "from sklearn import tree\n",
    "#from graphviz import Source\n",
    "from sklearn.cluster import KMeans\n",
    "from sklearn.metrics.pairwise import cosine_similarity\n",
    "\n",
    "%matplotlib inline"
   ]
  },
  {
   "cell_type": "markdown",
   "metadata": {},
   "source": [
    "### CSV 파일 데이터 로드"
   ]
  },
  {
   "cell_type": "code",
   "execution_count": 56,
   "metadata": {},
   "outputs": [],
   "source": [
    "act_df = pd.read_csv('2_act_info.csv')\n",
    "cus_df = pd.read_csv('2_cus_info.csv')\n",
    "iem_df = pd.read_csv('2_iem_info.csv')\n",
    "trdkr_df = pd.read_csv('2_trd_kr.csv')\n",
    "trdoss_df = pd.read_csv('2_trd_oss.csv')"
   ]
  },
  {
   "cell_type": "code",
   "execution_count": 7,
   "metadata": {},
   "outputs": [],
   "source": [
    "cus_df2 = cus_df"
   ]
  },
  {
   "cell_type": "markdown",
   "metadata": {},
   "source": [
    "* 결측값 여부 확인"
   ]
  },
  {
   "cell_type": "code",
   "execution_count": 8,
   "metadata": {},
   "outputs": [
    {
     "name": "stdout",
     "output_type": "stream",
     "text": [
      "cus_id            0\n",
      "sex_dit_cd        0\n",
      "cus_age           0\n",
      "zip_ctp_cd        0\n",
      "tco_cus_grd_cd    0\n",
      "ivs_icn_cd        0\n",
      "dtype: int64\n",
      "act_id        0\n",
      "cus_id        0\n",
      "act_opn_ym    0\n",
      "dtype: int64\n",
      "iem_cd        0\n",
      "iem_eng_nm    0\n",
      "iem_krl_nm    0\n",
      "dtype: int64\n",
      "act_id            0\n",
      "orr_dt            0\n",
      "orr_ord           0\n",
      "orr_rtn_hur       0\n",
      "lst_cns_hur       0\n",
      "iem_cd            0\n",
      "sby_dit_cd        0\n",
      "cns_qty           0\n",
      "orr_pr            0\n",
      "orr_mdi_dit_cd    0\n",
      "dtype: int64\n",
      "act_id            0\n",
      "orr_dt            0\n",
      "orr_ord           0\n",
      "orr_rtn_hur       0\n",
      "lst_cns_hur       0\n",
      "iem_cd            0\n",
      "sby_dit_cd        0\n",
      "cns_qty           0\n",
      "orr_pr            0\n",
      "orr_mdi_dit_cd    0\n",
      "cur_cd            0\n",
      "trd_cur_xcg_rt    0\n",
      "dtype: int64\n"
     ]
    }
   ],
   "source": [
    "print(cus_df.isnull().sum())\n",
    "print(act_df.isnull().sum())\n",
    "print(iem_df.isnull().sum())\n",
    "print(trdkr_df.isnull().sum())\n",
    "print(trdoss_df.isnull().sum())"
   ]
  },
  {
   "cell_type": "markdown",
   "metadata": {},
   "source": [
    "### 고객 등급별 투자성향 및 투자성향별 고객 등급"
   ]
  },
  {
   "cell_type": "markdown",
   "metadata": {},
   "source": [
    "* 한글깨짐 방지-font위치 알아보기"
   ]
  },
  {
   "cell_type": "code",
   "execution_count": 9,
   "metadata": {},
   "outputs": [
    {
     "name": "stdout",
     "output_type": "stream",
     "text": [
      "Malgun Gothic C:\\Windows\\Fonts\\malgun.ttf\n",
      "Malgun Gothic C:\\windows\\Fonts\\malgun.ttf\n",
      "Malgun Gothic C:\\Windows\\Fonts\\malgunsl.ttf\n",
      "Malgun Gothic C:\\windows\\Fonts\\malgunsl.ttf\n",
      "Malgun Gothic C:\\Windows\\Fonts\\malgunbd.ttf\n",
      "Malgun Gothic C:\\windows\\Fonts\\malgunbd.ttf\n"
     ]
    }
   ],
   "source": [
    "from matplotlib import font_manager\n",
    "\n",
    "for font in font_manager.fontManager.ttflist:\n",
    "    if 'Mal' in font.name:\n",
    "        print(font.name, font.fname)"
   ]
  },
  {
   "cell_type": "markdown",
   "metadata": {},
   "source": [
    "* 고객등급 및 투자성향 데이터 수정(숫자->한글)"
   ]
  },
  {
   "cell_type": "code",
   "execution_count": 10,
   "metadata": {},
   "outputs": [],
   "source": [
    "cus_df2.ivs_icn_cd = cus_df2.ivs_icn_cd.replace('01', '안정형')\n",
    "cus_df2.ivs_icn_cd = cus_df2.ivs_icn_cd.replace('02', '안정추구형')\n",
    "cus_df2.ivs_icn_cd = cus_df2.ivs_icn_cd.replace('03', '위험중립형')\n",
    "cus_df2.ivs_icn_cd = cus_df2.ivs_icn_cd.replace('04', '적극투자형')\n",
    "cus_df2.ivs_icn_cd = cus_df2.ivs_icn_cd.replace('05', '공격투자형')\n",
    "cus_df2.ivs_icn_cd = cus_df2.ivs_icn_cd.replace('09', '전문투자자형')\n",
    "cus_df2.ivs_icn_cd = cus_df2.ivs_icn_cd.replace('00', '정보제공미동의')\n",
    "cus_df2.ivs_icn_cd = cus_df2.ivs_icn_cd.replace('_', '해당 사항 없음')\n",
    "\n",
    "cus_df2.tco_cus_grd_cd = cus_df2.tco_cus_grd_cd.replace('01', '탑클래스')\n",
    "cus_df2.tco_cus_grd_cd = cus_df2.tco_cus_grd_cd.replace('02', '골드')\n",
    "cus_df2.tco_cus_grd_cd = cus_df2.tco_cus_grd_cd.replace('03', '로얄')\n",
    "cus_df2.tco_cus_grd_cd = cus_df2.tco_cus_grd_cd.replace('04', '그린')\n",
    "cus_df2.tco_cus_grd_cd = cus_df2.tco_cus_grd_cd.replace('05', '블루')\n",
    "cus_df2.tco_cus_grd_cd = cus_df2.tco_cus_grd_cd.replace('09', '등급 없음')\n",
    "cus_df2.tco_cus_grd_cd = cus_df2.tco_cus_grd_cd.replace('_', '해당 사항 없음')"
   ]
  },
  {
   "cell_type": "markdown",
   "metadata": {},
   "source": [
    "* 고객등급별 투자성향 시각화"
   ]
  },
  {
   "cell_type": "code",
   "execution_count": 11,
   "metadata": {
    "scrolled": true
   },
   "outputs": [
    {
     "data": {
      "text/plain": [
       "<AxesSubplot:xlabel='tco_cus_grd_cd', ylabel='count'>"
      ]
     },
     "execution_count": 11,
     "metadata": {},
     "output_type": "execute_result"
    },
    {
     "data": {
      "image/png": "[encoded data removed]",
      "text/plain": [
       "<Figure size 864x360 with 1 Axes>"
      ]
     },
     "metadata": {
      "needs_background": "light"
     },
     "output_type": "display_data"
    }
   ],
   "source": [
    "import matplotlib.pyplot as plt\n",
    "import matplotlib.font_manager as fm\n",
    " \n",
    "# 한글깨짐 방지\n",
    "fm.get_fontconfig_fonts()\n",
    "font_location = 'C:\\Windows\\Fonts\\malgun.ttf'\n",
    "font_name = fm.FontProperties(fname=font_location).get_name()\n",
    "plt.rc('font', family=font_name)\n",
    "\n",
    "# 그래프 출력\n",
    "plt.figure(figsize=(12,5))\n",
    "sns.countplot(x='tco_cus_grd_cd', hue=\"ivs_icn_cd\",data=cus_df2)"
   ]
  },
  {
   "cell_type": "markdown",
   "metadata": {},
   "source": [
    "* 투자성향별 고객등급 시각화"
   ]
  },
  {
   "cell_type": "code",
   "execution_count": 12,
   "metadata": {},
   "outputs": [
    {
     "data": {
      "text/plain": [
       "<AxesSubplot:xlabel='ivs_icn_cd', ylabel='count'>"
      ]
     },
     "execution_count": 12,
     "metadata": {},
     "output_type": "execute_result"
    },
    {
     "data": {
      "image/png": "[encoded data removed]",
      "text/plain": [
       "<Figure size 936x504 with 1 Axes>"
      ]
     },
     "metadata": {
      "needs_background": "light"
     },
     "output_type": "display_data"
    }
   ],
   "source": [
    "# 한글깨짐 방지\n",
    "fm.get_fontconfig_fonts()\n",
    "font_location = 'C:\\Windows\\Fonts\\malgun.ttf'\n",
    "font_name = fm.FontProperties(fname=font_location).get_name()\n",
    "plt.rc('font', family=font_name)\n",
    "\n",
    "# 그래프 출력\n",
    "plt.figure(figsize=(13,7))\n",
    "sns.countplot(x='ivs_icn_cd', hue=\"tco_cus_grd_cd\",data=cus_df2)"
   ]
  },
  {
   "cell_type": "markdown",
   "metadata": {},
   "source": [
    "> 시드머니가 많을 수록 많은 돈을 벌 수 있기에, 등급이 높을 수록 주식 투자를 더 많이 할 것이라는 가설과 달리 탑클래스와 골드 등급 고객의 거래량이 적은 걸 알 수 있었습니다. 위 등급을 제외하고는 등급이 높을 수록 공격투자형, 적극투자형의 비율이 많고, 낮을 수록 비교적 원금보장이 되는 안정적인 성향을 가진 것을 알 수 있었습니다."
   ]
  },
  {
   "cell_type": "markdown",
   "metadata": {},
   "source": [
    "### 투자유형별 많이 거래한 상위 5개 종목명 - 국내"
   ]
  },
  {
   "cell_type": "markdown",
   "metadata": {},
   "source": [
    "* 많이 거래한 상위 5개 종목을 데이터프레임으로 리턴하는 함수"
   ]
  },
  {
   "cell_type": "code",
   "execution_count": 13,
   "metadata": {},
   "outputs": [],
   "source": [
    "def type_trdkr(type):\n",
    "    cus_id_df = cus_df2[cus_df2['ivs_icn_cd']==type]\n",
    "    cus_act_df = pd.merge(cus_id_df, act_df, how='inner', on='cus_id')\n",
    "    trdkr_type_df = pd.merge(cus_act_df, trdkr_df, how='inner', on='act_id')\n",
    "    trdkr_type_iem = pd.value_counts(trdkr_type_df.iem_cd)\n",
    "    type_iem_count = trdkr_type_iem[:5]\n",
    "    type_iem_df = type_iem_count.rename_axis('iem_cd').reset_index(name='counts')\n",
    "    type_iem_df = pd.merge(type_iem_df, iem_df, how='inner', on='iem_cd')\n",
    "    return type_iem_df"
   ]
  },
  {
   "cell_type": "markdown",
   "metadata": {},
   "source": [
    "#### 안정형이 많이 거래한 상위 5개 종목명 - 국내"
   ]
  },
  {
   "cell_type": "code",
   "execution_count": 14,
   "metadata": {},
   "outputs": [
    {
     "data": {
      "text/html": [
       "<div>\n",
       "<style scoped>\n",
       "    .dataframe tbody tr th:only-of-type {\n",
       "        vertical-align: middle;\n",
       "    }\n",
       "\n",
       "    .dataframe tbody tr th {\n",
       "        vertical-align: top;\n",
       "    }\n",
       "\n",
       "    .dataframe thead th {\n",
       "        text-align: right;\n",
       "    }\n",
       "</style>\n",
       "<table border=\"1\" class=\"dataframe\">\n",
       "  <thead>\n",
       "    <tr style=\"text-align: right;\">\n",
       "      <th></th>\n",
       "      <th>iem_cd</th>\n",
       "      <th>counts</th>\n",
       "      <th>iem_eng_nm</th>\n",
       "      <th>iem_krl_nm</th>\n",
       "    </tr>\n",
       "  </thead>\n",
       "  <tbody>\n",
       "    <tr>\n",
       "      <th>0</th>\n",
       "      <td>A005930</td>\n",
       "      <td>1028</td>\n",
       "      <td>SamsungElectronics                            ...</td>\n",
       "      <td>삼성전자보통주                                       ...</td>\n",
       "    </tr>\n",
       "    <tr>\n",
       "      <th>1</th>\n",
       "      <td>A252670</td>\n",
       "      <td>833</td>\n",
       "      <td>SAMSUNG KODEX 200 Futures Inverse 2X ETF      ...</td>\n",
       "      <td>삼성 KODEX 200선물인버스2X증권상장지수투자신탁(주식-파생형)         ...</td>\n",
       "    </tr>\n",
       "    <tr>\n",
       "      <th>2</th>\n",
       "      <td>A215600</td>\n",
       "      <td>669</td>\n",
       "      <td>SillaJen, Inc.                                ...</td>\n",
       "      <td>신라젠                                           ...</td>\n",
       "    </tr>\n",
       "    <tr>\n",
       "      <th>3</th>\n",
       "      <td>A122630</td>\n",
       "      <td>609</td>\n",
       "      <td>SAMSUNG KODEX LEVERAGE ETF[EQUITY-DERIVATIVES]...</td>\n",
       "      <td>삼성KODEX레버리지증권상장지수투자신탁[주식-파생형]                 ...</td>\n",
       "    </tr>\n",
       "    <tr>\n",
       "      <th>4</th>\n",
       "      <td>A002150</td>\n",
       "      <td>563</td>\n",
       "      <td>DOHWA ENGINEERING                             ...</td>\n",
       "      <td>도화엔지니어링보통주                                    ...</td>\n",
       "    </tr>\n",
       "  </tbody>\n",
       "</table>\n",
       "</div>"
      ],
      "text/plain": [
       "         iem_cd  counts                                         iem_eng_nm  \\\n",
       "0  A005930         1028  SamsungElectronics                            ...   \n",
       "1  A252670          833  SAMSUNG KODEX 200 Futures Inverse 2X ETF      ...   \n",
       "2  A215600          669  SillaJen, Inc.                                ...   \n",
       "3  A122630          609  SAMSUNG KODEX LEVERAGE ETF[EQUITY-DERIVATIVES]...   \n",
       "4  A002150          563  DOHWA ENGINEERING                             ...   \n",
       "\n",
       "                                          iem_krl_nm  \n",
       "0  삼성전자보통주                                       ...  \n",
       "1  삼성 KODEX 200선물인버스2X증권상장지수투자신탁(주식-파생형)         ...  \n",
       "2  신라젠                                           ...  \n",
       "3  삼성KODEX레버리지증권상장지수투자신탁[주식-파생형]                 ...  \n",
       "4  도화엔지니어링보통주                                    ...  "
      ]
     },
     "execution_count": 14,
     "metadata": {},
     "output_type": "execute_result"
    }
   ],
   "source": [
    "stability_type = type_trdkr(\"안정형\")\n",
    "stability_type"
   ]
  },
  {
   "cell_type": "markdown",
   "metadata": {},
   "source": [
    "#### 안정추구형이 많이 거래한 상위 5개 종목명 - 국내"
   ]
  },
  {
   "cell_type": "code",
   "execution_count": 15,
   "metadata": {},
   "outputs": [
    {
     "data": {
      "text/html": [
       "<div>\n",
       "<style scoped>\n",
       "    .dataframe tbody tr th:only-of-type {\n",
       "        vertical-align: middle;\n",
       "    }\n",
       "\n",
       "    .dataframe tbody tr th {\n",
       "        vertical-align: top;\n",
       "    }\n",
       "\n",
       "    .dataframe thead th {\n",
       "        text-align: right;\n",
       "    }\n",
       "</style>\n",
       "<table border=\"1\" class=\"dataframe\">\n",
       "  <thead>\n",
       "    <tr style=\"text-align: right;\">\n",
       "      <th></th>\n",
       "      <th>iem_cd</th>\n",
       "      <th>counts</th>\n",
       "      <th>iem_eng_nm</th>\n",
       "      <th>iem_krl_nm</th>\n",
       "    </tr>\n",
       "  </thead>\n",
       "  <tbody>\n",
       "    <tr>\n",
       "      <th>0</th>\n",
       "      <td>A005930</td>\n",
       "      <td>6732</td>\n",
       "      <td>SamsungElectronics                            ...</td>\n",
       "      <td>삼성전자보통주                                       ...</td>\n",
       "    </tr>\n",
       "    <tr>\n",
       "      <th>1</th>\n",
       "      <td>A252670</td>\n",
       "      <td>5338</td>\n",
       "      <td>SAMSUNG KODEX 200 Futures Inverse 2X ETF      ...</td>\n",
       "      <td>삼성 KODEX 200선물인버스2X증권상장지수투자신탁(주식-파생형)         ...</td>\n",
       "    </tr>\n",
       "    <tr>\n",
       "      <th>2</th>\n",
       "      <td>A008350</td>\n",
       "      <td>3601</td>\n",
       "      <td>NamsunAluminium                               ...</td>\n",
       "      <td>남선알미늄보통주                                      ...</td>\n",
       "    </tr>\n",
       "    <tr>\n",
       "      <th>3</th>\n",
       "      <td>A078130</td>\n",
       "      <td>3337</td>\n",
       "      <td>KUK-IL PAPER MFG CO.,LTD                      ...</td>\n",
       "      <td>국일제지                                          ...</td>\n",
       "    </tr>\n",
       "    <tr>\n",
       "      <th>4</th>\n",
       "      <td>A096530</td>\n",
       "      <td>2482</td>\n",
       "      <td>Seegene Inc.                                  ...</td>\n",
       "      <td>씨젠                                            ...</td>\n",
       "    </tr>\n",
       "  </tbody>\n",
       "</table>\n",
       "</div>"
      ],
      "text/plain": [
       "         iem_cd  counts                                         iem_eng_nm  \\\n",
       "0  A005930         6732  SamsungElectronics                            ...   \n",
       "1  A252670         5338  SAMSUNG KODEX 200 Futures Inverse 2X ETF      ...   \n",
       "2  A008350         3601  NamsunAluminium                               ...   \n",
       "3  A078130         3337  KUK-IL PAPER MFG CO.,LTD                      ...   \n",
       "4  A096530         2482  Seegene Inc.                                  ...   \n",
       "\n",
       "                                          iem_krl_nm  \n",
       "0  삼성전자보통주                                       ...  \n",
       "1  삼성 KODEX 200선물인버스2X증권상장지수투자신탁(주식-파생형)         ...  \n",
       "2  남선알미늄보통주                                      ...  \n",
       "3  국일제지                                          ...  \n",
       "4  씨젠                                            ...  "
      ]
     },
     "execution_count": 15,
     "metadata": {},
     "output_type": "execute_result"
    }
   ],
   "source": [
    "seekStability_type = type_trdkr(\"안정추구형\")\n",
    "seekStability_type"
   ]
  },
  {
   "cell_type": "markdown",
   "metadata": {},
   "source": [
    "#### 위험중립형이 많이 거래한 상위 5개 종목명 - 국내"
   ]
  },
  {
   "cell_type": "code",
   "execution_count": 16,
   "metadata": {},
   "outputs": [
    {
     "data": {
      "text/html": [
       "<div>\n",
       "<style scoped>\n",
       "    .dataframe tbody tr th:only-of-type {\n",
       "        vertical-align: middle;\n",
       "    }\n",
       "\n",
       "    .dataframe tbody tr th {\n",
       "        vertical-align: top;\n",
       "    }\n",
       "\n",
       "    .dataframe thead th {\n",
       "        text-align: right;\n",
       "    }\n",
       "</style>\n",
       "<table border=\"1\" class=\"dataframe\">\n",
       "  <thead>\n",
       "    <tr style=\"text-align: right;\">\n",
       "      <th></th>\n",
       "      <th>iem_cd</th>\n",
       "      <th>counts</th>\n",
       "      <th>iem_eng_nm</th>\n",
       "      <th>iem_krl_nm</th>\n",
       "    </tr>\n",
       "  </thead>\n",
       "  <tbody>\n",
       "    <tr>\n",
       "      <th>0</th>\n",
       "      <td>A005930</td>\n",
       "      <td>11432</td>\n",
       "      <td>SamsungElectronics                            ...</td>\n",
       "      <td>삼성전자보통주                                       ...</td>\n",
       "    </tr>\n",
       "    <tr>\n",
       "      <th>1</th>\n",
       "      <td>A122630</td>\n",
       "      <td>9277</td>\n",
       "      <td>SAMSUNG KODEX LEVERAGE ETF[EQUITY-DERIVATIVES]...</td>\n",
       "      <td>삼성KODEX레버리지증권상장지수투자신탁[주식-파생형]                 ...</td>\n",
       "    </tr>\n",
       "    <tr>\n",
       "      <th>2</th>\n",
       "      <td>A252670</td>\n",
       "      <td>8415</td>\n",
       "      <td>SAMSUNG KODEX 200 Futures Inverse 2X ETF      ...</td>\n",
       "      <td>삼성 KODEX 200선물인버스2X증권상장지수투자신탁(주식-파생형)         ...</td>\n",
       "    </tr>\n",
       "    <tr>\n",
       "      <th>3</th>\n",
       "      <td>A028300</td>\n",
       "      <td>5835</td>\n",
       "      <td>HLB INC.                                      ...</td>\n",
       "      <td>에이치엘비                                         ...</td>\n",
       "    </tr>\n",
       "    <tr>\n",
       "      <th>4</th>\n",
       "      <td>A008350</td>\n",
       "      <td>4168</td>\n",
       "      <td>NamsunAluminium                               ...</td>\n",
       "      <td>남선알미늄보통주                                      ...</td>\n",
       "    </tr>\n",
       "  </tbody>\n",
       "</table>\n",
       "</div>"
      ],
      "text/plain": [
       "         iem_cd  counts                                         iem_eng_nm  \\\n",
       "0  A005930        11432  SamsungElectronics                            ...   \n",
       "1  A122630         9277  SAMSUNG KODEX LEVERAGE ETF[EQUITY-DERIVATIVES]...   \n",
       "2  A252670         8415  SAMSUNG KODEX 200 Futures Inverse 2X ETF      ...   \n",
       "3  A028300         5835  HLB INC.                                      ...   \n",
       "4  A008350         4168  NamsunAluminium                               ...   \n",
       "\n",
       "                                          iem_krl_nm  \n",
       "0  삼성전자보통주                                       ...  \n",
       "1  삼성KODEX레버리지증권상장지수투자신탁[주식-파생형]                 ...  \n",
       "2  삼성 KODEX 200선물인버스2X증권상장지수투자신탁(주식-파생형)         ...  \n",
       "3  에이치엘비                                         ...  \n",
       "4  남선알미늄보통주                                      ...  "
      ]
     },
     "execution_count": 16,
     "metadata": {},
     "output_type": "execute_result"
    }
   ],
   "source": [
    "riskNeutral_type = type_trdkr(\"위험중립형\")\n",
    "riskNeutral_type"
   ]
  },
  {
   "cell_type": "markdown",
   "metadata": {},
   "source": [
    "#### 적극투자형이 많이 거래한 상위 5개 종목명 - 국내"
   ]
  },
  {
   "cell_type": "code",
   "execution_count": 17,
   "metadata": {},
   "outputs": [
    {
     "data": {
      "text/html": [
       "<div>\n",
       "<style scoped>\n",
       "    .dataframe tbody tr th:only-of-type {\n",
       "        vertical-align: middle;\n",
       "    }\n",
       "\n",
       "    .dataframe tbody tr th {\n",
       "        vertical-align: top;\n",
       "    }\n",
       "\n",
       "    .dataframe thead th {\n",
       "        text-align: right;\n",
       "    }\n",
       "</style>\n",
       "<table border=\"1\" class=\"dataframe\">\n",
       "  <thead>\n",
       "    <tr style=\"text-align: right;\">\n",
       "      <th></th>\n",
       "      <th>iem_cd</th>\n",
       "      <th>counts</th>\n",
       "      <th>iem_eng_nm</th>\n",
       "      <th>iem_krl_nm</th>\n",
       "    </tr>\n",
       "  </thead>\n",
       "  <tbody>\n",
       "    <tr>\n",
       "      <th>0</th>\n",
       "      <td>A005930</td>\n",
       "      <td>13681</td>\n",
       "      <td>SamsungElectronics                            ...</td>\n",
       "      <td>삼성전자보통주                                       ...</td>\n",
       "    </tr>\n",
       "    <tr>\n",
       "      <th>1</th>\n",
       "      <td>A000660</td>\n",
       "      <td>7879</td>\n",
       "      <td>SK hynix                                      ...</td>\n",
       "      <td>에스케이하이닉스보통주                                   ...</td>\n",
       "    </tr>\n",
       "    <tr>\n",
       "      <th>2</th>\n",
       "      <td>A252670</td>\n",
       "      <td>7306</td>\n",
       "      <td>SAMSUNG KODEX 200 Futures Inverse 2X ETF      ...</td>\n",
       "      <td>삼성 KODEX 200선물인버스2X증권상장지수투자신탁(주식-파생형)         ...</td>\n",
       "    </tr>\n",
       "    <tr>\n",
       "      <th>3</th>\n",
       "      <td>A068270</td>\n",
       "      <td>7202</td>\n",
       "      <td>Celltrion                                     ...</td>\n",
       "      <td>셀트리온보통주                                       ...</td>\n",
       "    </tr>\n",
       "    <tr>\n",
       "      <th>4</th>\n",
       "      <td>A010620</td>\n",
       "      <td>5523</td>\n",
       "      <td>HyundaiMipoDockyard                           ...</td>\n",
       "      <td>현대미포조선보통주                                     ...</td>\n",
       "    </tr>\n",
       "  </tbody>\n",
       "</table>\n",
       "</div>"
      ],
      "text/plain": [
       "         iem_cd  counts                                         iem_eng_nm  \\\n",
       "0  A005930        13681  SamsungElectronics                            ...   \n",
       "1  A000660         7879  SK hynix                                      ...   \n",
       "2  A252670         7306  SAMSUNG KODEX 200 Futures Inverse 2X ETF      ...   \n",
       "3  A068270         7202  Celltrion                                     ...   \n",
       "4  A010620         5523  HyundaiMipoDockyard                           ...   \n",
       "\n",
       "                                          iem_krl_nm  \n",
       "0  삼성전자보통주                                       ...  \n",
       "1  에스케이하이닉스보통주                                   ...  \n",
       "2  삼성 KODEX 200선물인버스2X증권상장지수투자신탁(주식-파생형)         ...  \n",
       "3  셀트리온보통주                                       ...  \n",
       "4  현대미포조선보통주                                     ...  "
      ]
     },
     "execution_count": 17,
     "metadata": {},
     "output_type": "execute_result"
    }
   ],
   "source": [
    "active_type = type_trdkr(\"적극투자형\")\n",
    "active_type"
   ]
  },
  {
   "cell_type": "markdown",
   "metadata": {},
   "source": [
    "#### 공격투자형이 많이 거래한 상위 5개 종목명 - 국내"
   ]
  },
  {
   "cell_type": "code",
   "execution_count": 18,
   "metadata": {},
   "outputs": [
    {
     "data": {
      "text/html": [
       "<div>\n",
       "<style scoped>\n",
       "    .dataframe tbody tr th:only-of-type {\n",
       "        vertical-align: middle;\n",
       "    }\n",
       "\n",
       "    .dataframe tbody tr th {\n",
       "        vertical-align: top;\n",
       "    }\n",
       "\n",
       "    .dataframe thead th {\n",
       "        text-align: right;\n",
       "    }\n",
       "</style>\n",
       "<table border=\"1\" class=\"dataframe\">\n",
       "  <thead>\n",
       "    <tr style=\"text-align: right;\">\n",
       "      <th></th>\n",
       "      <th>iem_cd</th>\n",
       "      <th>counts</th>\n",
       "      <th>iem_eng_nm</th>\n",
       "      <th>iem_krl_nm</th>\n",
       "    </tr>\n",
       "  </thead>\n",
       "  <tbody>\n",
       "    <tr>\n",
       "      <th>0</th>\n",
       "      <td>A252670</td>\n",
       "      <td>9699</td>\n",
       "      <td>SAMSUNG KODEX 200 Futures Inverse 2X ETF      ...</td>\n",
       "      <td>삼성 KODEX 200선물인버스2X증권상장지수투자신탁(주식-파생형)         ...</td>\n",
       "    </tr>\n",
       "    <tr>\n",
       "      <th>1</th>\n",
       "      <td>A233740</td>\n",
       "      <td>8815</td>\n",
       "      <td>SAMSUNG KODEX KOSDAQ150 LEVERAGE ETF          ...</td>\n",
       "      <td>삼성 KODEX 코스닥150 레버리지증권상장지수투자신탁(주식-파생          ...</td>\n",
       "    </tr>\n",
       "    <tr>\n",
       "      <th>2</th>\n",
       "      <td>A122630</td>\n",
       "      <td>8549</td>\n",
       "      <td>SAMSUNG KODEX LEVERAGE ETF[EQUITY-DERIVATIVES]...</td>\n",
       "      <td>삼성KODEX레버리지증권상장지수투자신탁[주식-파생형]                 ...</td>\n",
       "    </tr>\n",
       "    <tr>\n",
       "      <th>3</th>\n",
       "      <td>A005930</td>\n",
       "      <td>4810</td>\n",
       "      <td>SamsungElectronics                            ...</td>\n",
       "      <td>삼성전자보통주                                       ...</td>\n",
       "    </tr>\n",
       "    <tr>\n",
       "      <th>4</th>\n",
       "      <td>A035720</td>\n",
       "      <td>3950</td>\n",
       "      <td>Kakao                                         ...</td>\n",
       "      <td>카카오보통주                                        ...</td>\n",
       "    </tr>\n",
       "  </tbody>\n",
       "</table>\n",
       "</div>"
      ],
      "text/plain": [
       "         iem_cd  counts                                         iem_eng_nm  \\\n",
       "0  A252670         9699  SAMSUNG KODEX 200 Futures Inverse 2X ETF      ...   \n",
       "1  A233740         8815  SAMSUNG KODEX KOSDAQ150 LEVERAGE ETF          ...   \n",
       "2  A122630         8549  SAMSUNG KODEX LEVERAGE ETF[EQUITY-DERIVATIVES]...   \n",
       "3  A005930         4810  SamsungElectronics                            ...   \n",
       "4  A035720         3950  Kakao                                         ...   \n",
       "\n",
       "                                          iem_krl_nm  \n",
       "0  삼성 KODEX 200선물인버스2X증권상장지수투자신탁(주식-파생형)         ...  \n",
       "1  삼성 KODEX 코스닥150 레버리지증권상장지수투자신탁(주식-파생          ...  \n",
       "2  삼성KODEX레버리지증권상장지수투자신탁[주식-파생형]                 ...  \n",
       "3  삼성전자보통주                                       ...  \n",
       "4  카카오보통주                                        ...  "
      ]
     },
     "execution_count": 18,
     "metadata": {},
     "output_type": "execute_result"
    }
   ],
   "source": [
    "attack_type = type_trdkr(\"공격투자형\")\n",
    "attack_type"
   ]
  },
  {
   "cell_type": "markdown",
   "metadata": {},
   "source": [
    "#### 전문투자자형이 많이 거래한 상위 5개 종목명 - 국내"
   ]
  },
  {
   "cell_type": "code",
   "execution_count": 19,
   "metadata": {},
   "outputs": [
    {
     "data": {
      "text/html": [
       "<div>\n",
       "<style scoped>\n",
       "    .dataframe tbody tr th:only-of-type {\n",
       "        vertical-align: middle;\n",
       "    }\n",
       "\n",
       "    .dataframe tbody tr th {\n",
       "        vertical-align: top;\n",
       "    }\n",
       "\n",
       "    .dataframe thead th {\n",
       "        text-align: right;\n",
       "    }\n",
       "</style>\n",
       "<table border=\"1\" class=\"dataframe\">\n",
       "  <thead>\n",
       "    <tr style=\"text-align: right;\">\n",
       "      <th></th>\n",
       "      <th>iem_cd</th>\n",
       "      <th>counts</th>\n",
       "      <th>iem_eng_nm</th>\n",
       "      <th>iem_krl_nm</th>\n",
       "    </tr>\n",
       "  </thead>\n",
       "  <tbody>\n",
       "    <tr>\n",
       "      <th>0</th>\n",
       "      <td>A131370</td>\n",
       "      <td>529</td>\n",
       "      <td>RSUPPORT Co., Ltd.                            ...</td>\n",
       "      <td>알서포트                                          ...</td>\n",
       "    </tr>\n",
       "    <tr>\n",
       "      <th>1</th>\n",
       "      <td>A226330</td>\n",
       "      <td>390</td>\n",
       "      <td>SyntekaBio,Inc.                               ...</td>\n",
       "      <td>신테카바이오                                        ...</td>\n",
       "    </tr>\n",
       "    <tr>\n",
       "      <th>2</th>\n",
       "      <td>A058610</td>\n",
       "      <td>352</td>\n",
       "      <td>SPG CO., LTD                                  ...</td>\n",
       "      <td>에스피지                                          ...</td>\n",
       "    </tr>\n",
       "    <tr>\n",
       "      <th>3</th>\n",
       "      <td>A131390</td>\n",
       "      <td>264</td>\n",
       "      <td>PNE SOLUTION CO., LTD                         ...</td>\n",
       "      <td>피앤이솔루션                                        ...</td>\n",
       "    </tr>\n",
       "    <tr>\n",
       "      <th>4</th>\n",
       "      <td>A196170</td>\n",
       "      <td>230</td>\n",
       "      <td>Alteogen Inc.                                 ...</td>\n",
       "      <td>알테오젠                                          ...</td>\n",
       "    </tr>\n",
       "  </tbody>\n",
       "</table>\n",
       "</div>"
      ],
      "text/plain": [
       "         iem_cd  counts                                         iem_eng_nm  \\\n",
       "0  A131370          529  RSUPPORT Co., Ltd.                            ...   \n",
       "1  A226330          390  SyntekaBio,Inc.                               ...   \n",
       "2  A058610          352  SPG CO., LTD                                  ...   \n",
       "3  A131390          264  PNE SOLUTION CO., LTD                         ...   \n",
       "4  A196170          230  Alteogen Inc.                                 ...   \n",
       "\n",
       "                                          iem_krl_nm  \n",
       "0  알서포트                                          ...  \n",
       "1  신테카바이오                                        ...  \n",
       "2  에스피지                                          ...  \n",
       "3  피앤이솔루션                                        ...  \n",
       "4  알테오젠                                          ...  "
      ]
     },
     "execution_count": 19,
     "metadata": {},
     "output_type": "execute_result"
    }
   ],
   "source": [
    "professional_type = type_trdkr(\"전문투자자형\")\n",
    "professional_type"
   ]
  },
  {
   "cell_type": "markdown",
   "metadata": {},
   "source": [
    "> 투자형태와 상관 없이 삼성전자는 모두에게 인기있는 종목이었습니다. 빚을 이용한 투자인 레버리지 종목은 역시 공격투자형에서 많이 나타났으며, 변동이 심해 고수들의 분야였던 바이오 종목은 코로나 시대 때문인지 안정 중심의 투자형태에서도 볼 수 있었습니다. 이에 대해 뒤에서 더 분석해보도록 하겠습니다."
   ]
  },
  {
   "cell_type": "markdown",
   "metadata": {},
   "source": [
    "### 세대별 많이 거래한 상위 5개 종목명 - 국내"
   ]
  },
  {
   "cell_type": "code",
   "execution_count": 20,
   "metadata": {},
   "outputs": [
    {
     "name": "stderr",
     "output_type": "stream",
     "text": [
      "C:\\Anaconda3\\envs\\myenv\\lib\\site-packages\\ipykernel_launcher.py:4: SettingWithCopyWarning: \n",
      "A value is trying to be set on a copy of a slice from a DataFrame.\n",
      "Try using .loc[row_indexer,col_indexer] = value instead\n",
      "\n",
      "See the caveats in the documentation: https://pandas.pydata.org/pandas-docs/stable/user_guide/indexing.html#returning-a-view-versus-a-copy\n",
      "  after removing the cwd from sys.path.\n",
      "C:\\Anaconda3\\envs\\myenv\\lib\\site-packages\\ipykernel_launcher.py:8: SettingWithCopyWarning: \n",
      "A value is trying to be set on a copy of a slice from a DataFrame.\n",
      "Try using .loc[row_indexer,col_indexer] = value instead\n",
      "\n",
      "See the caveats in the documentation: https://pandas.pydata.org/pandas-docs/stable/user_guide/indexing.html#returning-a-view-versus-a-copy\n",
      "  \n",
      "C:\\Anaconda3\\envs\\myenv\\lib\\site-packages\\ipykernel_launcher.py:12: SettingWithCopyWarning: \n",
      "A value is trying to be set on a copy of a slice from a DataFrame.\n",
      "Try using .loc[row_indexer,col_indexer] = value instead\n",
      "\n",
      "See the caveats in the documentation: https://pandas.pydata.org/pandas-docs/stable/user_guide/indexing.html#returning-a-view-versus-a-copy\n",
      "  if sys.path[0] == '':\n"
     ]
    }
   ],
   "source": [
    "# YZ 이전 세대=0, Y세대=1, Z세대=2\n",
    "x_cus=cus_df2[(cus_df2['cus_age']>=45)]\n",
    "Generation=0\n",
    "x_cus['Generation']=Generation\n",
    "\n",
    "y_cus=cus_df2[(cus_df2['cus_age']<45)&(cus_df2['cus_age']>=30)]\n",
    "Generation=1\n",
    "y_cus['Generation']=Generation\n",
    "\n",
    "z_cus=cus_df2[(cus_df2['cus_age']<30)]\n",
    "Generation=2\n",
    "z_cus['Generation']=Generation\n",
    "\n",
    "gen_df=pd.concat([x_cus,y_cus,z_cus],ignore_index=True)"
   ]
  },
  {
   "cell_type": "code",
   "execution_count": 21,
   "metadata": {},
   "outputs": [
    {
     "data": {
      "text/html": [
       "<div>\n",
       "<style scoped>\n",
       "    .dataframe tbody tr th:only-of-type {\n",
       "        vertical-align: middle;\n",
       "    }\n",
       "\n",
       "    .dataframe tbody tr th {\n",
       "        vertical-align: top;\n",
       "    }\n",
       "\n",
       "    .dataframe thead th {\n",
       "        text-align: right;\n",
       "    }\n",
       "</style>\n",
       "<table border=\"1\" class=\"dataframe\">\n",
       "  <thead>\n",
       "    <tr style=\"text-align: right;\">\n",
       "      <th></th>\n",
       "      <th>cus_id</th>\n",
       "      <th>sex_dit_cd</th>\n",
       "      <th>cus_age</th>\n",
       "      <th>zip_ctp_cd</th>\n",
       "      <th>tco_cus_grd_cd</th>\n",
       "      <th>ivs_icn_cd</th>\n",
       "      <th>Generation</th>\n",
       "    </tr>\n",
       "  </thead>\n",
       "  <tbody>\n",
       "    <tr>\n",
       "      <th>0</th>\n",
       "      <td>36d3cd293c4b02a00103fa1ba33ffbee176173a55df75b...</td>\n",
       "      <td>1</td>\n",
       "      <td>70</td>\n",
       "      <td>27</td>\n",
       "      <td>로얄</td>\n",
       "      <td>-</td>\n",
       "      <td>0</td>\n",
       "    </tr>\n",
       "    <tr>\n",
       "      <th>1</th>\n",
       "      <td>96b6dea03dc71d9ddb1462e06fdba23def1ddc838debf7...</td>\n",
       "      <td>1</td>\n",
       "      <td>70</td>\n",
       "      <td>41</td>\n",
       "      <td>등급 없음</td>\n",
       "      <td>-</td>\n",
       "      <td>0</td>\n",
       "    </tr>\n",
       "    <tr>\n",
       "      <th>2</th>\n",
       "      <td>034eb5406bd021a9a88f046e33765efd5b3cd190b39538...</td>\n",
       "      <td>1</td>\n",
       "      <td>70</td>\n",
       "      <td>11</td>\n",
       "      <td>블루</td>\n",
       "      <td>-</td>\n",
       "      <td>0</td>\n",
       "    </tr>\n",
       "    <tr>\n",
       "      <th>3</th>\n",
       "      <td>68512a62994578c8d382fd953f1638bae1d19c269ebed3...</td>\n",
       "      <td>1</td>\n",
       "      <td>70</td>\n",
       "      <td>28</td>\n",
       "      <td>그린</td>\n",
       "      <td>-</td>\n",
       "      <td>0</td>\n",
       "    </tr>\n",
       "    <tr>\n",
       "      <th>4</th>\n",
       "      <td>9a1931d5454b82d8ae9063e7b536468df40eba2923b2ed...</td>\n",
       "      <td>1</td>\n",
       "      <td>70</td>\n",
       "      <td>11</td>\n",
       "      <td>탑클래스</td>\n",
       "      <td>적극투자형</td>\n",
       "      <td>0</td>\n",
       "    </tr>\n",
       "    <tr>\n",
       "      <th>...</th>\n",
       "      <td>...</td>\n",
       "      <td>...</td>\n",
       "      <td>...</td>\n",
       "      <td>...</td>\n",
       "      <td>...</td>\n",
       "      <td>...</td>\n",
       "      <td>...</td>\n",
       "    </tr>\n",
       "    <tr>\n",
       "      <th>9995</th>\n",
       "      <td>f8adfd272ea8c79bcf4ee8fc3e5ff3ac89adb506206bfa...</td>\n",
       "      <td>2</td>\n",
       "      <td>0</td>\n",
       "      <td>27</td>\n",
       "      <td>등급 없음</td>\n",
       "      <td>공격투자형</td>\n",
       "      <td>2</td>\n",
       "    </tr>\n",
       "    <tr>\n",
       "      <th>9996</th>\n",
       "      <td>8e6331f920af950e2db28b347f29b40298caab08a0765c...</td>\n",
       "      <td>1</td>\n",
       "      <td>25</td>\n",
       "      <td>42</td>\n",
       "      <td>블루</td>\n",
       "      <td>정보제공미동의</td>\n",
       "      <td>2</td>\n",
       "    </tr>\n",
       "    <tr>\n",
       "      <th>9997</th>\n",
       "      <td>6c464a7bc1bb16dbf375c3a64d8477821d75e75541453b...</td>\n",
       "      <td>2</td>\n",
       "      <td>25</td>\n",
       "      <td>41</td>\n",
       "      <td>그린</td>\n",
       "      <td>안정추구형</td>\n",
       "      <td>2</td>\n",
       "    </tr>\n",
       "    <tr>\n",
       "      <th>9998</th>\n",
       "      <td>8258367b7f30e20b20bc440d57ba627f7e623094f872f6...</td>\n",
       "      <td>2</td>\n",
       "      <td>25</td>\n",
       "      <td>45</td>\n",
       "      <td>그린</td>\n",
       "      <td>적극투자형</td>\n",
       "      <td>2</td>\n",
       "    </tr>\n",
       "    <tr>\n",
       "      <th>9999</th>\n",
       "      <td>7051eb7aa1378c4208a2298c10fb4c36d879f20dd912a0...</td>\n",
       "      <td>1</td>\n",
       "      <td>20</td>\n",
       "      <td>27</td>\n",
       "      <td>등급 없음</td>\n",
       "      <td>-</td>\n",
       "      <td>2</td>\n",
       "    </tr>\n",
       "  </tbody>\n",
       "</table>\n",
       "<p>10000 rows × 7 columns</p>\n",
       "</div>"
      ],
      "text/plain": [
       "                                                 cus_id  sex_dit_cd  cus_age  \\\n",
       "0     36d3cd293c4b02a00103fa1ba33ffbee176173a55df75b...           1       70   \n",
       "1     96b6dea03dc71d9ddb1462e06fdba23def1ddc838debf7...           1       70   \n",
       "2     034eb5406bd021a9a88f046e33765efd5b3cd190b39538...           1       70   \n",
       "3     68512a62994578c8d382fd953f1638bae1d19c269ebed3...           1       70   \n",
       "4     9a1931d5454b82d8ae9063e7b536468df40eba2923b2ed...           1       70   \n",
       "...                                                 ...         ...      ...   \n",
       "9995  f8adfd272ea8c79bcf4ee8fc3e5ff3ac89adb506206bfa...           2        0   \n",
       "9996  8e6331f920af950e2db28b347f29b40298caab08a0765c...           1       25   \n",
       "9997  6c464a7bc1bb16dbf375c3a64d8477821d75e75541453b...           2       25   \n",
       "9998  8258367b7f30e20b20bc440d57ba627f7e623094f872f6...           2       25   \n",
       "9999  7051eb7aa1378c4208a2298c10fb4c36d879f20dd912a0...           1       20   \n",
       "\n",
       "     zip_ctp_cd tco_cus_grd_cd ivs_icn_cd  Generation  \n",
       "0            27             로얄          -           0  \n",
       "1            41          등급 없음          -           0  \n",
       "2            11             블루          -           0  \n",
       "3            28             그린          -           0  \n",
       "4            11           탑클래스      적극투자형           0  \n",
       "...         ...            ...        ...         ...  \n",
       "9995         27          등급 없음      공격투자형           2  \n",
       "9996         42             블루    정보제공미동의           2  \n",
       "9997         41             그린      안정추구형           2  \n",
       "9998         45             그린      적극투자형           2  \n",
       "9999         27          등급 없음          -           2  \n",
       "\n",
       "[10000 rows x 7 columns]"
      ]
     },
     "execution_count": 21,
     "metadata": {},
     "output_type": "execute_result"
    }
   ],
   "source": [
    "gen_df"
   ]
  },
  {
   "cell_type": "code",
   "execution_count": 22,
   "metadata": {},
   "outputs": [],
   "source": [
    "def type_trdkr(type):\n",
    "    cus_id_df = gen_df[gen_df['Generation']==type]\n",
    "    cus_act_df = pd.merge(cus_id_df, act_df, how='inner', on='cus_id')\n",
    "    trdkr_type_df = pd.merge(cus_act_df, trdkr_df, how='inner', on='act_id')\n",
    "    trdkr_type_iem = pd.value_counts(trdkr_type_df.iem_cd)\n",
    "    type_iem_count = trdkr_type_iem[:5]\n",
    "    type_iem_df = type_iem_count.rename_axis('iem_cd').reset_index(name='counts')\n",
    "    type_iem_df = pd.merge(type_iem_df, iem_df, how='inner', on='iem_cd')\n",
    "    return type_iem_df"
   ]
  },
  {
   "cell_type": "code",
   "execution_count": 23,
   "metadata": {},
   "outputs": [
    {
     "data": {
      "text/html": [
       "<div>\n",
       "<style scoped>\n",
       "    .dataframe tbody tr th:only-of-type {\n",
       "        vertical-align: middle;\n",
       "    }\n",
       "\n",
       "    .dataframe tbody tr th {\n",
       "        vertical-align: top;\n",
       "    }\n",
       "\n",
       "    .dataframe thead th {\n",
       "        text-align: right;\n",
       "    }\n",
       "</style>\n",
       "<table border=\"1\" class=\"dataframe\">\n",
       "  <thead>\n",
       "    <tr style=\"text-align: right;\">\n",
       "      <th></th>\n",
       "      <th>iem_cd</th>\n",
       "      <th>counts</th>\n",
       "      <th>iem_eng_nm</th>\n",
       "      <th>iem_krl_nm</th>\n",
       "    </tr>\n",
       "  </thead>\n",
       "  <tbody>\n",
       "    <tr>\n",
       "      <th>0</th>\n",
       "      <td>A009440</td>\n",
       "      <td>59293</td>\n",
       "      <td>KC Green Holdings                             ...</td>\n",
       "      <td>케이씨그린홀딩스보통주                                   ...</td>\n",
       "    </tr>\n",
       "    <tr>\n",
       "      <th>1</th>\n",
       "      <td>A005110</td>\n",
       "      <td>43989</td>\n",
       "      <td>Hanchang                                      ...</td>\n",
       "      <td>한창보통주                                         ...</td>\n",
       "    </tr>\n",
       "    <tr>\n",
       "      <th>2</th>\n",
       "      <td>A005930</td>\n",
       "      <td>42015</td>\n",
       "      <td>SamsungElectronics                            ...</td>\n",
       "      <td>삼성전자보통주                                       ...</td>\n",
       "    </tr>\n",
       "    <tr>\n",
       "      <th>3</th>\n",
       "      <td>A011200</td>\n",
       "      <td>36847</td>\n",
       "      <td>HMM                                           ...</td>\n",
       "      <td>에이치엠엠보통주                                      ...</td>\n",
       "    </tr>\n",
       "    <tr>\n",
       "      <th>4</th>\n",
       "      <td>A064240</td>\n",
       "      <td>26528</td>\n",
       "      <td>homecast CO., LTD.                            ...</td>\n",
       "      <td>홈캐스트                                          ...</td>\n",
       "    </tr>\n",
       "  </tbody>\n",
       "</table>\n",
       "</div>"
      ],
      "text/plain": [
       "         iem_cd  counts                                         iem_eng_nm  \\\n",
       "0  A009440        59293  KC Green Holdings                             ...   \n",
       "1  A005110        43989  Hanchang                                      ...   \n",
       "2  A005930        42015  SamsungElectronics                            ...   \n",
       "3  A011200        36847  HMM                                           ...   \n",
       "4  A064240        26528  homecast CO., LTD.                            ...   \n",
       "\n",
       "                                          iem_krl_nm  \n",
       "0  케이씨그린홀딩스보통주                                   ...  \n",
       "1  한창보통주                                         ...  \n",
       "2  삼성전자보통주                                       ...  \n",
       "3  에이치엠엠보통주                                      ...  \n",
       "4  홈캐스트                                          ...  "
      ]
     },
     "execution_count": 23,
     "metadata": {},
     "output_type": "execute_result"
    }
   ],
   "source": [
    "#YZ이전세대 거래종목\n",
    "stability_type = type_trdkr(0)\n",
    "stability_type"
   ]
  },
  {
   "cell_type": "code",
   "execution_count": 24,
   "metadata": {},
   "outputs": [
    {
     "data": {
      "text/html": [
       "<div>\n",
       "<style scoped>\n",
       "    .dataframe tbody tr th:only-of-type {\n",
       "        vertical-align: middle;\n",
       "    }\n",
       "\n",
       "    .dataframe tbody tr th {\n",
       "        vertical-align: top;\n",
       "    }\n",
       "\n",
       "    .dataframe thead th {\n",
       "        text-align: right;\n",
       "    }\n",
       "</style>\n",
       "<table border=\"1\" class=\"dataframe\">\n",
       "  <thead>\n",
       "    <tr style=\"text-align: right;\">\n",
       "      <th></th>\n",
       "      <th>iem_cd</th>\n",
       "      <th>counts</th>\n",
       "      <th>iem_eng_nm</th>\n",
       "      <th>iem_krl_nm</th>\n",
       "    </tr>\n",
       "  </thead>\n",
       "  <tbody>\n",
       "    <tr>\n",
       "      <th>0</th>\n",
       "      <td>A005930</td>\n",
       "      <td>16250</td>\n",
       "      <td>SamsungElectronics                            ...</td>\n",
       "      <td>삼성전자보통주                                       ...</td>\n",
       "    </tr>\n",
       "    <tr>\n",
       "      <th>1</th>\n",
       "      <td>A252670</td>\n",
       "      <td>13974</td>\n",
       "      <td>SAMSUNG KODEX 200 Futures Inverse 2X ETF      ...</td>\n",
       "      <td>삼성 KODEX 200선물인버스2X증권상장지수투자신탁(주식-파생형)         ...</td>\n",
       "    </tr>\n",
       "    <tr>\n",
       "      <th>2</th>\n",
       "      <td>A233740</td>\n",
       "      <td>10323</td>\n",
       "      <td>SAMSUNG KODEX KOSDAQ150 LEVERAGE ETF          ...</td>\n",
       "      <td>삼성 KODEX 코스닥150 레버리지증권상장지수투자신탁(주식-파생          ...</td>\n",
       "    </tr>\n",
       "    <tr>\n",
       "      <th>3</th>\n",
       "      <td>A122630</td>\n",
       "      <td>9721</td>\n",
       "      <td>SAMSUNG KODEX LEVERAGE ETF[EQUITY-DERIVATIVES]...</td>\n",
       "      <td>삼성KODEX레버리지증권상장지수투자신탁[주식-파생형]                 ...</td>\n",
       "    </tr>\n",
       "    <tr>\n",
       "      <th>4</th>\n",
       "      <td>A028300</td>\n",
       "      <td>7733</td>\n",
       "      <td>HLB INC.                                      ...</td>\n",
       "      <td>에이치엘비                                         ...</td>\n",
       "    </tr>\n",
       "  </tbody>\n",
       "</table>\n",
       "</div>"
      ],
      "text/plain": [
       "         iem_cd  counts                                         iem_eng_nm  \\\n",
       "0  A005930        16250  SamsungElectronics                            ...   \n",
       "1  A252670        13974  SAMSUNG KODEX 200 Futures Inverse 2X ETF      ...   \n",
       "2  A233740        10323  SAMSUNG KODEX KOSDAQ150 LEVERAGE ETF          ...   \n",
       "3  A122630         9721  SAMSUNG KODEX LEVERAGE ETF[EQUITY-DERIVATIVES]...   \n",
       "4  A028300         7733  HLB INC.                                      ...   \n",
       "\n",
       "                                          iem_krl_nm  \n",
       "0  삼성전자보통주                                       ...  \n",
       "1  삼성 KODEX 200선물인버스2X증권상장지수투자신탁(주식-파생형)         ...  \n",
       "2  삼성 KODEX 코스닥150 레버리지증권상장지수투자신탁(주식-파생          ...  \n",
       "3  삼성KODEX레버리지증권상장지수투자신탁[주식-파생형]                 ...  \n",
       "4  에이치엘비                                         ...  "
      ]
     },
     "execution_count": 24,
     "metadata": {},
     "output_type": "execute_result"
    }
   ],
   "source": [
    "#Y세대 거래종목\n",
    "stability_type = type_trdkr(1)\n",
    "stability_type"
   ]
  },
  {
   "cell_type": "code",
   "execution_count": 25,
   "metadata": {},
   "outputs": [
    {
     "data": {
      "text/html": [
       "<div>\n",
       "<style scoped>\n",
       "    .dataframe tbody tr th:only-of-type {\n",
       "        vertical-align: middle;\n",
       "    }\n",
       "\n",
       "    .dataframe tbody tr th {\n",
       "        vertical-align: top;\n",
       "    }\n",
       "\n",
       "    .dataframe thead th {\n",
       "        text-align: right;\n",
       "    }\n",
       "</style>\n",
       "<table border=\"1\" class=\"dataframe\">\n",
       "  <thead>\n",
       "    <tr style=\"text-align: right;\">\n",
       "      <th></th>\n",
       "      <th>iem_cd</th>\n",
       "      <th>counts</th>\n",
       "      <th>iem_eng_nm</th>\n",
       "      <th>iem_krl_nm</th>\n",
       "    </tr>\n",
       "  </thead>\n",
       "  <tbody>\n",
       "    <tr>\n",
       "      <th>0</th>\n",
       "      <td>A005930</td>\n",
       "      <td>5988</td>\n",
       "      <td>SamsungElectronics                            ...</td>\n",
       "      <td>삼성전자보통주                                       ...</td>\n",
       "    </tr>\n",
       "    <tr>\n",
       "      <th>1</th>\n",
       "      <td>A252670</td>\n",
       "      <td>3925</td>\n",
       "      <td>SAMSUNG KODEX 200 Futures Inverse 2X ETF      ...</td>\n",
       "      <td>삼성 KODEX 200선물인버스2X증권상장지수투자신탁(주식-파생형)         ...</td>\n",
       "    </tr>\n",
       "    <tr>\n",
       "      <th>2</th>\n",
       "      <td>A008350</td>\n",
       "      <td>1898</td>\n",
       "      <td>NamsunAluminium                               ...</td>\n",
       "      <td>남선알미늄보통주                                      ...</td>\n",
       "    </tr>\n",
       "    <tr>\n",
       "      <th>3</th>\n",
       "      <td>A122630</td>\n",
       "      <td>1896</td>\n",
       "      <td>SAMSUNG KODEX LEVERAGE ETF[EQUITY-DERIVATIVES]...</td>\n",
       "      <td>삼성KODEX레버리지증권상장지수투자신탁[주식-파생형]                 ...</td>\n",
       "    </tr>\n",
       "    <tr>\n",
       "      <th>4</th>\n",
       "      <td>A096530</td>\n",
       "      <td>1765</td>\n",
       "      <td>Seegene Inc.                                  ...</td>\n",
       "      <td>씨젠                                            ...</td>\n",
       "    </tr>\n",
       "  </tbody>\n",
       "</table>\n",
       "</div>"
      ],
      "text/plain": [
       "         iem_cd  counts                                         iem_eng_nm  \\\n",
       "0  A005930         5988  SamsungElectronics                            ...   \n",
       "1  A252670         3925  SAMSUNG KODEX 200 Futures Inverse 2X ETF      ...   \n",
       "2  A008350         1898  NamsunAluminium                               ...   \n",
       "3  A122630         1896  SAMSUNG KODEX LEVERAGE ETF[EQUITY-DERIVATIVES]...   \n",
       "4  A096530         1765  Seegene Inc.                                  ...   \n",
       "\n",
       "                                          iem_krl_nm  \n",
       "0  삼성전자보통주                                       ...  \n",
       "1  삼성 KODEX 200선물인버스2X증권상장지수투자신탁(주식-파생형)         ...  \n",
       "2  남선알미늄보통주                                      ...  \n",
       "3  삼성KODEX레버리지증권상장지수투자신탁[주식-파생형]                 ...  \n",
       "4  씨젠                                            ...  "
      ]
     },
     "execution_count": 25,
     "metadata": {},
     "output_type": "execute_result"
    }
   ],
   "source": [
    "#Z세대 거래종목\n",
    "stability_type = type_trdkr(2)\n",
    "stability_type"
   ]
  },
  {
   "cell_type": "markdown",
   "metadata": {},
   "source": [
    ">"
   ]
  },
  {
   "cell_type": "markdown",
   "metadata": {},
   "source": [
    "### 세대별 평균 고객 등급"
   ]
  },
  {
   "cell_type": "code",
   "execution_count": 26,
   "metadata": {},
   "outputs": [
    {
     "data": {
      "text/plain": [
       "0    5068\n",
       "1    3466\n",
       "2    1466\n",
       "Name: Generation, dtype: int64"
      ]
     },
     "execution_count": 26,
     "metadata": {},
     "output_type": "execute_result"
    }
   ],
   "source": [
    "gen_df['Generation'].value_counts()"
   ]
  },
  {
   "cell_type": "code",
   "execution_count": 27,
   "metadata": {},
   "outputs": [],
   "source": [
    "gen_df.Generation = gen_df.Generation.replace(2, 'Z 세대')\n",
    "gen_df.Generation = gen_df.Generation.replace(1, 'Y 세대')\n",
    "gen_df.Generation = gen_df.Generation.replace(0, 'YZ이전세대')\n",
    "\n",
    "gen_df.ivs_icn_cd = gen_df.ivs_icn_cd.replace('01', '안정형')\n",
    "gen_df.ivs_icn_cd = gen_df.ivs_icn_cd.replace('02', '안정추구형')\n",
    "gen_df.ivs_icn_cd = gen_df.ivs_icn_cd.replace('03', '위험중립형')\n",
    "gen_df.ivs_icn_cd = gen_df.ivs_icn_cd.replace('04', '적극투자형')\n",
    "gen_df.ivs_icn_cd = gen_df.ivs_icn_cd.replace('05', '공격투자형')\n",
    "gen_df.ivs_icn_cd = gen_df.ivs_icn_cd.replace('09', '전문투자자형')\n",
    "gen_df.ivs_icn_cd = gen_df.ivs_icn_cd.replace('00', '정보제공미동의')\n",
    "gen_df.ivs_icn_cd = gen_df.ivs_icn_cd.replace('_', '해당 사항 없음')\n",
    "\n",
    "gen_df.tco_cus_grd_cd = gen_df.tco_cus_grd_cd.replace('01', '탑클래스')\n",
    "gen_df.tco_cus_grd_cd = gen_df.tco_cus_grd_cd.replace('02', '골드')\n",
    "gen_df.tco_cus_grd_cd = gen_df.tco_cus_grd_cd.replace('03', '로얄')\n",
    "gen_df.tco_cus_grd_cd = gen_df.tco_cus_grd_cd.replace('04', '그린')\n",
    "gen_df.tco_cus_grd_cd = gen_df.tco_cus_grd_cd.replace('05', '블루')\n",
    "gen_df.tco_cus_grd_cd = gen_df.tco_cus_grd_cd.replace('09', '등급 없음')\n",
    "gen_df.tco_cus_grd_cd = gen_df.tco_cus_grd_cd.replace('_', '해당 사항 없음')\n",
    "\n",
    "gen_df.zip_ctp_cd = gen_df.zip_ctp_cd.replace('41', '경기')\n",
    "gen_df.zip_ctp_cd = gen_df.zip_ctp_cd.replace('11', '서울')\n",
    "gen_df.zip_ctp_cd = gen_df.zip_ctp_cd.replace('48', '경남')\n",
    "gen_df.zip_ctp_cd = gen_df.zip_ctp_cd.replace('26', '부산')\n",
    "gen_df.zip_ctp_cd = gen_df.zip_ctp_cd.replace('27', '대구')\n",
    "gen_df.zip_ctp_cd = gen_df.zip_ctp_cd.replace('47', '경북')\n",
    "gen_df.zip_ctp_cd = gen_df.zip_ctp_cd.replace('28', '인천')\n",
    "gen_df.zip_ctp_cd = gen_df.zip_ctp_cd.replace('44', '충남')\n",
    "gen_df.zip_ctp_cd = gen_df.zip_ctp_cd.replace('46', '전남')\n",
    "gen_df.zip_ctp_cd = gen_df.zip_ctp_cd.replace('30', '대전')\n",
    "gen_df.zip_ctp_cd = gen_df.zip_ctp_cd.replace('29', '광주')\n",
    "gen_df.zip_ctp_cd = gen_df.zip_ctp_cd.replace('43', '충북')\n",
    "gen_df.zip_ctp_cd = gen_df.zip_ctp_cd.replace('45', '전북')\n",
    "gen_df.zip_ctp_cd = gen_df.zip_ctp_cd.replace('42', '강원')\n",
    "gen_df.zip_ctp_cd = gen_df.zip_ctp_cd.replace('31', '울산')\n",
    "gen_df.zip_ctp_cd = gen_df.zip_ctp_cd.replace('50', '제주')\n",
    "gen_df.zip_ctp_cd = gen_df.zip_ctp_cd.replace('36', '세종')\n",
    "gen_df.zip_ctp_cd = gen_df.zip_ctp_cd.replace('-', '해당 무')"
   ]
  },
  {
   "cell_type": "code",
   "execution_count": 28,
   "metadata": {},
   "outputs": [
    {
     "data": {
      "text/plain": [
       "<AxesSubplot:xlabel='Generation', ylabel='count'>"
      ]
     },
     "execution_count": 28,
     "metadata": {},
     "output_type": "execute_result"
    },
    {
     "data": {
      "image/png": "[encoded data removed]",
      "text/plain": [
       "<Figure size 936x504 with 1 Axes>"
      ]
     },
     "metadata": {
      "needs_background": "light"
     },
     "output_type": "display_data"
    }
   ],
   "source": [
    "plt.figure(figsize=(13,7))\n",
    "sns.countplot(x='Generation', hue=\"tco_cus_grd_cd\",data=gen_df)"
   ]
  },
  {
   "cell_type": "markdown",
   "metadata": {},
   "source": [
    "### 연령별 투자 성향"
   ]
  },
  {
   "cell_type": "code",
   "execution_count": 29,
   "metadata": {},
   "outputs": [
    {
     "data": {
      "text/plain": [
       "<AxesSubplot:xlabel='cus_age', ylabel='count'>"
      ]
     },
     "execution_count": 29,
     "metadata": {},
     "output_type": "execute_result"
    },
    {
     "data": {
      "image/png": "[encoded data removed]",
      "text/plain": [
       "<Figure size 936x504 with 1 Axes>"
      ]
     },
     "metadata": {
      "needs_background": "light"
     },
     "output_type": "display_data"
    }
   ],
   "source": [
    "# 해당없음과 정보제공 미동의를 제외한 데이터프레임\n",
    "cus_df3 = cus_df2[(cus_df2[\"ivs_icn_cd\"]==\"적극투자형\") | (cus_df2[\"ivs_icn_cd\"]==\"위험중립형\")\n",
    "                  | (cus_df2[\"ivs_icn_cd\"]==\"안정형\") | (cus_df2[\"ivs_icn_cd\"]==\"안정추구형\")\n",
    "                  | (cus_df2[\"ivs_icn_cd\"]==\"공격투자형\") | (cus_df2[\"ivs_icn_cd\"]==\"전문투자자형\")]\n",
    "\n",
    "plt.figure(figsize=(13,7))\n",
    "sns.countplot(x='cus_age', hue=\"ivs_icn_cd\",data=cus_df3)"
   ]
  },
  {
   "cell_type": "markdown",
   "metadata": {},
   "source": [
    "### 세대별 투자 성향"
   ]
  },
  {
   "cell_type": "code",
   "execution_count": 30,
   "metadata": {},
   "outputs": [
    {
     "data": {
      "text/plain": [
       "<AxesSubplot:xlabel='ivs_icn_cd', ylabel='count'>"
      ]
     },
     "execution_count": 30,
     "metadata": {},
     "output_type": "execute_result"
    },
    {
     "data": {
      "image/png": "[encoded data removed]",
      "text/plain": [
       "<Figure size 936x504 with 1 Axes>"
      ]
     },
     "metadata": {
      "needs_background": "light"
     },
     "output_type": "display_data"
    }
   ],
   "source": [
    "plt.figure(figsize=(13,7))\n",
    "sns.countplot(x='ivs_icn_cd', hue=\"Generation\",data=gen_df)"
   ]
  },
  {
   "cell_type": "markdown",
   "metadata": {},
   "source": [
    "> 신세대일수록 안정형과 거리가 멀고 기존세대일 수록 안정적일 거라는 가설과 정반대의 결과가 도출되었습니다. 다른 세대와 달리 Z세대가 비교적 주식시장을 오래 겪지 못하여 안정적인 투자를 하려는 것인지, 기존 세대들은 z세대보다 많은 시드머니로 공격, 적극투자를 성공적으로 했을 시 수익률이 높으므로 저런 성향을 띄는 것인지 고찰해보았습니다."
   ]
  },
  {
   "cell_type": "markdown",
   "metadata": {},
   "source": [
    "### 연령별 주문매체"
   ]
  },
  {
   "cell_type": "markdown",
   "metadata": {},
   "source": [
    "* 데이터프레임 재구성"
   ]
  },
  {
   "cell_type": "code",
   "execution_count": 31,
   "metadata": {},
   "outputs": [
    {
     "data": {
      "text/html": [
       "<div>\n",
       "<style scoped>\n",
       "    .dataframe tbody tr th:only-of-type {\n",
       "        vertical-align: middle;\n",
       "    }\n",
       "\n",
       "    .dataframe tbody tr th {\n",
       "        vertical-align: top;\n",
       "    }\n",
       "\n",
       "    .dataframe thead th {\n",
       "        text-align: right;\n",
       "    }\n",
       "</style>\n",
       "<table border=\"1\" class=\"dataframe\">\n",
       "  <thead>\n",
       "    <tr style=\"text-align: right;\">\n",
       "      <th></th>\n",
       "      <th>act_id</th>\n",
       "      <th>orr_dt</th>\n",
       "      <th>orr_ord</th>\n",
       "      <th>orr_rtn_hur</th>\n",
       "      <th>lst_cns_hur</th>\n",
       "      <th>iem_cd</th>\n",
       "      <th>sby_dit_cd</th>\n",
       "      <th>cns_qty</th>\n",
       "      <th>orr_pr</th>\n",
       "      <th>orr_mdi_dit_cd</th>\n",
       "      <th>cus_id</th>\n",
       "      <th>sex_dit_cd</th>\n",
       "      <th>cus_age</th>\n",
       "      <th>zip_ctp_cd</th>\n",
       "      <th>tco_cus_grd_cd</th>\n",
       "      <th>ivs_icn_cd</th>\n",
       "      <th>act_opn_ym</th>\n",
       "    </tr>\n",
       "  </thead>\n",
       "  <tbody>\n",
       "    <tr>\n",
       "      <th>0</th>\n",
       "      <td>6caf4de40251d37cbba310f0c6dd0ed8f4c7ca4ccfa675...</td>\n",
       "      <td>20190102</td>\n",
       "      <td>1</td>\n",
       "      <td>12</td>\n",
       "      <td>13</td>\n",
       "      <td>A215600</td>\n",
       "      <td>2</td>\n",
       "      <td>35.0</td>\n",
       "      <td>74200.0</td>\n",
       "      <td>무선단말MTS</td>\n",
       "      <td>8eafaa5dc6eb52ada6b2d93ae1a0544f2c91e71667c945...</td>\n",
       "      <td>1</td>\n",
       "      <td>55</td>\n",
       "      <td>11</td>\n",
       "      <td>골드</td>\n",
       "      <td>공격투자형</td>\n",
       "      <td>200512</td>\n",
       "    </tr>\n",
       "    <tr>\n",
       "      <th>1</th>\n",
       "      <td>6caf4de40251d37cbba310f0c6dd0ed8f4c7ca4ccfa675...</td>\n",
       "      <td>20190102</td>\n",
       "      <td>2</td>\n",
       "      <td>12</td>\n",
       "      <td>12</td>\n",
       "      <td>A001060</td>\n",
       "      <td>2</td>\n",
       "      <td>20.0</td>\n",
       "      <td>41100.0</td>\n",
       "      <td>무선단말MTS</td>\n",
       "      <td>8eafaa5dc6eb52ada6b2d93ae1a0544f2c91e71667c945...</td>\n",
       "      <td>1</td>\n",
       "      <td>55</td>\n",
       "      <td>11</td>\n",
       "      <td>골드</td>\n",
       "      <td>공격투자형</td>\n",
       "      <td>200512</td>\n",
       "    </tr>\n",
       "    <tr>\n",
       "      <th>2</th>\n",
       "      <td>6caf4de40251d37cbba310f0c6dd0ed8f4c7ca4ccfa675...</td>\n",
       "      <td>20190312</td>\n",
       "      <td>1</td>\n",
       "      <td>14</td>\n",
       "      <td>14</td>\n",
       "      <td>A215600</td>\n",
       "      <td>1</td>\n",
       "      <td>165.0</td>\n",
       "      <td>75200.0</td>\n",
       "      <td>무선단말MTS</td>\n",
       "      <td>8eafaa5dc6eb52ada6b2d93ae1a0544f2c91e71667c945...</td>\n",
       "      <td>1</td>\n",
       "      <td>55</td>\n",
       "      <td>11</td>\n",
       "      <td>골드</td>\n",
       "      <td>공격투자형</td>\n",
       "      <td>200512</td>\n",
       "    </tr>\n",
       "    <tr>\n",
       "      <th>3</th>\n",
       "      <td>6caf4de40251d37cbba310f0c6dd0ed8f4c7ca4ccfa675...</td>\n",
       "      <td>20190312</td>\n",
       "      <td>2</td>\n",
       "      <td>14</td>\n",
       "      <td>14</td>\n",
       "      <td>A215600</td>\n",
       "      <td>2</td>\n",
       "      <td>72.0</td>\n",
       "      <td>74200.0</td>\n",
       "      <td>무선단말MTS</td>\n",
       "      <td>8eafaa5dc6eb52ada6b2d93ae1a0544f2c91e71667c945...</td>\n",
       "      <td>1</td>\n",
       "      <td>55</td>\n",
       "      <td>11</td>\n",
       "      <td>골드</td>\n",
       "      <td>공격투자형</td>\n",
       "      <td>200512</td>\n",
       "    </tr>\n",
       "    <tr>\n",
       "      <th>4</th>\n",
       "      <td>6caf4de40251d37cbba310f0c6dd0ed8f4c7ca4ccfa675...</td>\n",
       "      <td>20190312</td>\n",
       "      <td>3</td>\n",
       "      <td>14</td>\n",
       "      <td>14</td>\n",
       "      <td>A215600</td>\n",
       "      <td>2</td>\n",
       "      <td>53.0</td>\n",
       "      <td>74600.0</td>\n",
       "      <td>무선단말MTS</td>\n",
       "      <td>8eafaa5dc6eb52ada6b2d93ae1a0544f2c91e71667c945...</td>\n",
       "      <td>1</td>\n",
       "      <td>55</td>\n",
       "      <td>11</td>\n",
       "      <td>골드</td>\n",
       "      <td>공격투자형</td>\n",
       "      <td>200512</td>\n",
       "    </tr>\n",
       "    <tr>\n",
       "      <th>...</th>\n",
       "      <td>...</td>\n",
       "      <td>...</td>\n",
       "      <td>...</td>\n",
       "      <td>...</td>\n",
       "      <td>...</td>\n",
       "      <td>...</td>\n",
       "      <td>...</td>\n",
       "      <td>...</td>\n",
       "      <td>...</td>\n",
       "      <td>...</td>\n",
       "      <td>...</td>\n",
       "      <td>...</td>\n",
       "      <td>...</td>\n",
       "      <td>...</td>\n",
       "      <td>...</td>\n",
       "      <td>...</td>\n",
       "      <td>...</td>\n",
       "    </tr>\n",
       "    <tr>\n",
       "      <th>3312659</th>\n",
       "      <td>eb5afea478e1fd7dfa9a14f23234e59ffec0133937833c...</td>\n",
       "      <td>20200316</td>\n",
       "      <td>1</td>\n",
       "      <td>9</td>\n",
       "      <td>9</td>\n",
       "      <td>A005935</td>\n",
       "      <td>2</td>\n",
       "      <td>58.0</td>\n",
       "      <td>43000.0</td>\n",
       "      <td>무선단말MTS</td>\n",
       "      <td>1497ef70cd1785ae7ecc296644f2d2c82addf80af29e91...</td>\n",
       "      <td>1</td>\n",
       "      <td>40</td>\n",
       "      <td>41</td>\n",
       "      <td>등급 없음</td>\n",
       "      <td>-</td>\n",
       "      <td>202003</td>\n",
       "    </tr>\n",
       "    <tr>\n",
       "      <th>3312660</th>\n",
       "      <td>bbef227cc889325cf62298f8ef36a079e44bd3972d12df...</td>\n",
       "      <td>20200325</td>\n",
       "      <td>1</td>\n",
       "      <td>9</td>\n",
       "      <td>9</td>\n",
       "      <td>A005935</td>\n",
       "      <td>2</td>\n",
       "      <td>27.0</td>\n",
       "      <td>40950.0</td>\n",
       "      <td>무선단말MTS</td>\n",
       "      <td>b7ea634a638008c43d747ea08999af15cc25572181622a...</td>\n",
       "      <td>2</td>\n",
       "      <td>50</td>\n",
       "      <td>48</td>\n",
       "      <td>등급 없음</td>\n",
       "      <td>-</td>\n",
       "      <td>202003</td>\n",
       "    </tr>\n",
       "    <tr>\n",
       "      <th>3312661</th>\n",
       "      <td>73879f24845cac7864f770ade0d349cc511ad605a68154...</td>\n",
       "      <td>20200522</td>\n",
       "      <td>1</td>\n",
       "      <td>15</td>\n",
       "      <td>15</td>\n",
       "      <td>A040910</td>\n",
       "      <td>2</td>\n",
       "      <td>190.0</td>\n",
       "      <td>15550.0</td>\n",
       "      <td>무선단말MTS</td>\n",
       "      <td>533f755649cbdd33860dd98c44cde3f5a9a3a26ac2ef90...</td>\n",
       "      <td>2</td>\n",
       "      <td>35</td>\n",
       "      <td>31</td>\n",
       "      <td>_</td>\n",
       "      <td>안정추구형</td>\n",
       "      <td>202004</td>\n",
       "    </tr>\n",
       "    <tr>\n",
       "      <th>3312662</th>\n",
       "      <td>361a367676d1925e4db5c4057c0120362226fea9fabaf6...</td>\n",
       "      <td>20200616</td>\n",
       "      <td>1</td>\n",
       "      <td>15</td>\n",
       "      <td>15</td>\n",
       "      <td>A095570</td>\n",
       "      <td>1</td>\n",
       "      <td>2000.0</td>\n",
       "      <td>3160.0</td>\n",
       "      <td>무선단말MTS</td>\n",
       "      <td>7ec1a46f1a820bfa404bd1dbdbba26b867fd92cdcdce14...</td>\n",
       "      <td>1</td>\n",
       "      <td>40</td>\n",
       "      <td>43</td>\n",
       "      <td>그린</td>\n",
       "      <td>-</td>\n",
       "      <td>201604</td>\n",
       "    </tr>\n",
       "    <tr>\n",
       "      <th>3312663</th>\n",
       "      <td>2af3e23ba507f316ec0846be9d638535ebb1f81c803571...</td>\n",
       "      <td>20200629</td>\n",
       "      <td>1</td>\n",
       "      <td>13</td>\n",
       "      <td>13</td>\n",
       "      <td>A28513K</td>\n",
       "      <td>1</td>\n",
       "      <td>50.0</td>\n",
       "      <td>89300.0</td>\n",
       "      <td>무선단말MTS</td>\n",
       "      <td>e544be88790c06ca11138717e2d71c8df9fdaa191cf111...</td>\n",
       "      <td>2</td>\n",
       "      <td>55</td>\n",
       "      <td>41</td>\n",
       "      <td>등급 없음</td>\n",
       "      <td>-</td>\n",
       "      <td>201801</td>\n",
       "    </tr>\n",
       "  </tbody>\n",
       "</table>\n",
       "<p>3312664 rows × 17 columns</p>\n",
       "</div>"
      ],
      "text/plain": [
       "                                                    act_id    orr_dt  orr_ord  \\\n",
       "0        6caf4de40251d37cbba310f0c6dd0ed8f4c7ca4ccfa675...  20190102        1   \n",
       "1        6caf4de40251d37cbba310f0c6dd0ed8f4c7ca4ccfa675...  20190102        2   \n",
       "2        6caf4de40251d37cbba310f0c6dd0ed8f4c7ca4ccfa675...  20190312        1   \n",
       "3        6caf4de40251d37cbba310f0c6dd0ed8f4c7ca4ccfa675...  20190312        2   \n",
       "4        6caf4de40251d37cbba310f0c6dd0ed8f4c7ca4ccfa675...  20190312        3   \n",
       "...                                                    ...       ...      ...   \n",
       "3312659  eb5afea478e1fd7dfa9a14f23234e59ffec0133937833c...  20200316        1   \n",
       "3312660  bbef227cc889325cf62298f8ef36a079e44bd3972d12df...  20200325        1   \n",
       "3312661  73879f24845cac7864f770ade0d349cc511ad605a68154...  20200522        1   \n",
       "3312662  361a367676d1925e4db5c4057c0120362226fea9fabaf6...  20200616        1   \n",
       "3312663  2af3e23ba507f316ec0846be9d638535ebb1f81c803571...  20200629        1   \n",
       "\n",
       "         orr_rtn_hur  lst_cns_hur        iem_cd  sby_dit_cd  cns_qty   orr_pr  \\\n",
       "0                 12           13  A215600                2     35.0  74200.0   \n",
       "1                 12           12  A001060                2     20.0  41100.0   \n",
       "2                 14           14  A215600                1    165.0  75200.0   \n",
       "3                 14           14  A215600                2     72.0  74200.0   \n",
       "4                 14           14  A215600                2     53.0  74600.0   \n",
       "...              ...          ...           ...         ...      ...      ...   \n",
       "3312659            9            9  A005935                2     58.0  43000.0   \n",
       "3312660            9            9  A005935                2     27.0  40950.0   \n",
       "3312661           15           15  A040910                2    190.0  15550.0   \n",
       "3312662           15           15  A095570                1   2000.0   3160.0   \n",
       "3312663           13           13  A28513K                1     50.0  89300.0   \n",
       "\n",
       "        orr_mdi_dit_cd                                             cus_id  \\\n",
       "0              무선단말MTS  8eafaa5dc6eb52ada6b2d93ae1a0544f2c91e71667c945...   \n",
       "1              무선단말MTS  8eafaa5dc6eb52ada6b2d93ae1a0544f2c91e71667c945...   \n",
       "2              무선단말MTS  8eafaa5dc6eb52ada6b2d93ae1a0544f2c91e71667c945...   \n",
       "3              무선단말MTS  8eafaa5dc6eb52ada6b2d93ae1a0544f2c91e71667c945...   \n",
       "4              무선단말MTS  8eafaa5dc6eb52ada6b2d93ae1a0544f2c91e71667c945...   \n",
       "...                ...                                                ...   \n",
       "3312659        무선단말MTS  1497ef70cd1785ae7ecc296644f2d2c82addf80af29e91...   \n",
       "3312660        무선단말MTS  b7ea634a638008c43d747ea08999af15cc25572181622a...   \n",
       "3312661        무선단말MTS  533f755649cbdd33860dd98c44cde3f5a9a3a26ac2ef90...   \n",
       "3312662        무선단말MTS  7ec1a46f1a820bfa404bd1dbdbba26b867fd92cdcdce14...   \n",
       "3312663        무선단말MTS  e544be88790c06ca11138717e2d71c8df9fdaa191cf111...   \n",
       "\n",
       "         sex_dit_cd  cus_age zip_ctp_cd tco_cus_grd_cd ivs_icn_cd  act_opn_ym  \n",
       "0                 1       55         11             골드      공격투자형      200512  \n",
       "1                 1       55         11             골드      공격투자형      200512  \n",
       "2                 1       55         11             골드      공격투자형      200512  \n",
       "3                 1       55         11             골드      공격투자형      200512  \n",
       "4                 1       55         11             골드      공격투자형      200512  \n",
       "...             ...      ...        ...            ...        ...         ...  \n",
       "3312659           1       40         41          등급 없음          -      202003  \n",
       "3312660           2       50         48          등급 없음          -      202003  \n",
       "3312661           2       35         31             _       안정추구형      202004  \n",
       "3312662           1       40         43             그린          -      201604  \n",
       "3312663           2       55         41          등급 없음          -      201801  \n",
       "\n",
       "[3312664 rows x 17 columns]"
      ]
     },
     "execution_count": 31,
     "metadata": {},
     "output_type": "execute_result"
    }
   ],
   "source": [
    "trdkr_df2 = trdkr_df\n",
    "trdkr_df2.orr_mdi_dit_cd = trdkr_df2.orr_mdi_dit_cd.replace(1, '영업점단말')\n",
    "trdkr_df2.orr_mdi_dit_cd = trdkr_df2.orr_mdi_dit_cd.replace(2, '유선단말')\n",
    "trdkr_df2.orr_mdi_dit_cd = trdkr_df2.orr_mdi_dit_cd.replace(3, '무선단말MTS')\n",
    "trdkr_df2.orr_mdi_dit_cd = trdkr_df2.orr_mdi_dit_cd.replace(4, 'HTS')\n",
    "\n",
    "cus_act_df = pd.merge(cus_df, act_df, how='inner', on='cus_id')\n",
    "act_trdkr_df = pd.merge(trdkr_df2, cus_act_df, how='inner', on='act_id')\n",
    "act_trdkr_df"
   ]
  },
  {
   "cell_type": "markdown",
   "metadata": {},
   "source": [
    "* 연령별 사용 주문매체 시각화"
   ]
  },
  {
   "cell_type": "code",
   "execution_count": 32,
   "metadata": {},
   "outputs": [
    {
     "data": {
      "text/plain": [
       "<AxesSubplot:xlabel='cus_age', ylabel='count'>"
      ]
     },
     "execution_count": 32,
     "metadata": {},
     "output_type": "execute_result"
    },
    {
     "data": {
      "image/png": "[encoded data removed]",
      "text/plain": [
       "<Figure size 936x504 with 1 Axes>"
      ]
     },
     "metadata": {
      "needs_background": "light"
     },
     "output_type": "display_data"
    }
   ],
   "source": [
    "plt.figure(figsize=(13,7))\n",
    "sns.countplot(x='cus_age', hue=\"orr_mdi_dit_cd\",data=act_trdkr_df)"
   ]
  },
  {
   "cell_type": "markdown",
   "metadata": {},
   "source": [
    "### 세대별 주문매체"
   ]
  },
  {
   "cell_type": "code",
   "execution_count": 33,
   "metadata": {},
   "outputs": [],
   "source": [
    "iem_trd = pd.merge(trdkr_df, iem_df, on='iem_cd', how='left')\n",
    "iem_trd_act = pd.merge(iem_trd, act_df, on='act_id', how='left')\n",
    "iem_trd_act_cus = pd.merge(iem_trd_act, cus_df, on='cus_id', how='left')\n",
    "\n",
    "iem_trd_oss = pd.merge(trdoss_df, iem_df, on='iem_cd', how='left')\n",
    "iem_trd_act_oss = pd.merge(iem_trd_oss, act_df, on='act_id', how='left')\n",
    "iem_trd_act_cus_oss = pd.merge(iem_trd_act_oss, cus_df, on='cus_id', how='left')"
   ]
  },
  {
   "cell_type": "code",
   "execution_count": 34,
   "metadata": {},
   "outputs": [],
   "source": [
    "# z세대=2, y세대=1, yz이전세대=0\n",
    "change_value_dict={0:2,5:2,10:2,15:2,20:2,25:2,30:1,35:1,40:1,45:0,50:0,55:0,60:0,65:0,70:0,}\n",
    "\n",
    "iem_trd_act_cus=iem_trd_act_cus.replace({'cus_age':change_value_dict})\n",
    "iem_trd_act_cus_oss=iem_trd_act_cus_oss.replace({'cus_age':change_value_dict})"
   ]
  },
  {
   "cell_type": "code",
   "execution_count": 35,
   "metadata": {},
   "outputs": [],
   "source": [
    "change_value_dict2={1:'영업점단말', 2:'유선단말', 3:'무선단말MTS', 4:'HTS'}\n",
    "iem_trd_act_cus_oss=iem_trd_act_cus_oss.replace({'orr_mdi_dit_cd':change_value_dict2})"
   ]
  },
  {
   "cell_type": "code",
   "execution_count": 36,
   "metadata": {},
   "outputs": [
    {
     "data": {
      "text/plain": [
       "<AxesSubplot:xlabel='cus_age', ylabel='count'>"
      ]
     },
     "execution_count": 36,
     "metadata": {},
     "output_type": "execute_result"
    },
    {
     "data": {
      "image/png": "[encoded data removed]",
      "text/plain": [
       "<Figure size 936x504 with 1 Axes>"
      ]
     },
     "metadata": {
      "needs_background": "light"
     },
     "output_type": "display_data"
    }
   ],
   "source": [
    "# z세대=2, y세대=1, yz이전세대=0\n",
    "plt.figure(figsize=(13,7))\n",
    "sns.countplot(x='cus_age', hue=\"orr_mdi_dit_cd\",data=iem_trd_act_cus_oss)"
   ]
  },
  {
   "cell_type": "markdown",
   "metadata": {},
   "source": [
    ">X세대에서 HTS가 무선단말보다 높은 비율을 가질 것이라 예상했으나, 모든 세대에서 무선단말이 압도적임을 알 수 있습니다."
   ]
  },
  {
   "cell_type": "markdown",
   "metadata": {},
   "source": [
    "### 시도별 투자성향"
   ]
  },
  {
   "cell_type": "code",
   "execution_count": 37,
   "metadata": {},
   "outputs": [
    {
     "name": "stderr",
     "output_type": "stream",
     "text": [
      "C:\\Anaconda3\\envs\\myenv\\lib\\site-packages\\pandas\\core\\generic.py:5168: SettingWithCopyWarning: \n",
      "A value is trying to be set on a copy of a slice from a DataFrame.\n",
      "Try using .loc[row_indexer,col_indexer] = value instead\n",
      "\n",
      "See the caveats in the documentation: https://pandas.pydata.org/pandas-docs/stable/user_guide/indexing.html#returning-a-view-versus-a-copy\n",
      "  self[name] = value\n"
     ]
    }
   ],
   "source": [
    "cus_df3.zip_ctp_cd = cus_df3.zip_ctp_cd.replace('41', '경기')\n",
    "cus_df3.zip_ctp_cd = cus_df3.zip_ctp_cd.replace('11', '서울')\n",
    "cus_df3.zip_ctp_cd = cus_df3.zip_ctp_cd.replace('48', '경남')\n",
    "cus_df3.zip_ctp_cd = cus_df3.zip_ctp_cd.replace('26', '부산')\n",
    "cus_df3.zip_ctp_cd = cus_df3.zip_ctp_cd.replace('27', '대구')\n",
    "cus_df3.zip_ctp_cd = cus_df3.zip_ctp_cd.replace('47', '경북')\n",
    "cus_df3.zip_ctp_cd = cus_df3.zip_ctp_cd.replace('28', '인천')\n",
    "cus_df3.zip_ctp_cd = cus_df3.zip_ctp_cd.replace('44', '충남')\n",
    "cus_df3.zip_ctp_cd = cus_df3.zip_ctp_cd.replace('46', '전남')\n",
    "cus_df3.zip_ctp_cd = cus_df3.zip_ctp_cd.replace('30', '대전')\n",
    "cus_df3.zip_ctp_cd = cus_df3.zip_ctp_cd.replace('29', '광주')\n",
    "cus_df3.zip_ctp_cd = cus_df3.zip_ctp_cd.replace('43', '충북')\n",
    "cus_df3.zip_ctp_cd = cus_df3.zip_ctp_cd.replace('45', '전북')\n",
    "cus_df3.zip_ctp_cd = cus_df3.zip_ctp_cd.replace('42', '강원')\n",
    "cus_df3.zip_ctp_cd = cus_df3.zip_ctp_cd.replace('31', '울산')\n",
    "cus_df3.zip_ctp_cd = cus_df3.zip_ctp_cd.replace('50', '제주')\n",
    "cus_df3.zip_ctp_cd = cus_df3.zip_ctp_cd.replace('36', '세종')"
   ]
  },
  {
   "cell_type": "code",
   "execution_count": 38,
   "metadata": {
    "scrolled": true
   },
   "outputs": [
    {
     "data": {
      "text/plain": [
       "<AxesSubplot:xlabel='zip_ctp_cd', ylabel='count'>"
      ]
     },
     "execution_count": 38,
     "metadata": {},
     "output_type": "execute_result"
    },
    {
     "data": {
      "image/png": "[encoded data removed]",
      "text/plain": [
       "<Figure size 864x360 with 1 Axes>"
      ]
     },
     "metadata": {
      "needs_background": "light"
     },
     "output_type": "display_data"
    }
   ],
   "source": [
    "plt.figure(figsize=(12,5))\n",
    "sns.countplot(x='zip_ctp_cd', hue=\"ivs_icn_cd\",data=cus_df3)"
   ]
  },
  {
   "cell_type": "markdown",
   "metadata": {},
   "source": [
    ">시도별 투자성향은 크게 다르지 않았습니다."
   ]
  },
  {
   "cell_type": "markdown",
   "metadata": {},
   "source": [
    "### 시도별 고객등급"
   ]
  },
  {
   "cell_type": "code",
   "execution_count": 39,
   "metadata": {},
   "outputs": [
    {
     "data": {
      "text/plain": [
       "<AxesSubplot:xlabel='zip_ctp_cd', ylabel='count'>"
      ]
     },
     "execution_count": 39,
     "metadata": {},
     "output_type": "execute_result"
    },
    {
     "data": {
      "image/png": "[encoded data removed]",
      "text/plain": [
       "<Figure size 936x504 with 1 Axes>"
      ]
     },
     "metadata": {
      "needs_background": "light"
     },
     "output_type": "display_data"
    }
   ],
   "source": [
    "plt.figure(figsize=(13,7))\n",
    "sns.countplot(x='zip_ctp_cd', hue=\"tco_cus_grd_cd\",data=cus_df3)"
   ]
  },
  {
   "cell_type": "markdown",
   "metadata": {},
   "source": [
    "### 컬럼별 상관관계 알아보기(연령, 지역, 등급, 투자유형, 통화코드)"
   ]
  },
  {
   "cell_type": "code",
   "execution_count": 40,
   "metadata": {},
   "outputs": [
    {
     "data": {
      "text/html": [
       "<div>\n",
       "<style scoped>\n",
       "    .dataframe tbody tr th:only-of-type {\n",
       "        vertical-align: middle;\n",
       "    }\n",
       "\n",
       "    .dataframe tbody tr th {\n",
       "        vertical-align: top;\n",
       "    }\n",
       "\n",
       "    .dataframe thead th {\n",
       "        text-align: right;\n",
       "    }\n",
       "</style>\n",
       "<table border=\"1\" class=\"dataframe\">\n",
       "  <thead>\n",
       "    <tr style=\"text-align: right;\">\n",
       "      <th></th>\n",
       "      <th>cus_age</th>\n",
       "      <th>zip_ctp_cd</th>\n",
       "      <th>tco_cus_grd_cd</th>\n",
       "      <th>ivs_icn_cd</th>\n",
       "      <th>cur_cd</th>\n",
       "    </tr>\n",
       "  </thead>\n",
       "  <tbody>\n",
       "    <tr>\n",
       "      <th>0</th>\n",
       "      <td>1</td>\n",
       "      <td>28</td>\n",
       "      <td>로얄</td>\n",
       "      <td>공격투자형</td>\n",
       "      <td>CNY</td>\n",
       "    </tr>\n",
       "    <tr>\n",
       "      <th>1</th>\n",
       "      <td>1</td>\n",
       "      <td>43</td>\n",
       "      <td>등급 없음</td>\n",
       "      <td>적극투자형</td>\n",
       "      <td>USD</td>\n",
       "    </tr>\n",
       "    <tr>\n",
       "      <th>2</th>\n",
       "      <td>1</td>\n",
       "      <td>43</td>\n",
       "      <td>등급 없음</td>\n",
       "      <td>적극투자형</td>\n",
       "      <td>USD</td>\n",
       "    </tr>\n",
       "    <tr>\n",
       "      <th>3</th>\n",
       "      <td>1</td>\n",
       "      <td>41</td>\n",
       "      <td>등급 없음</td>\n",
       "      <td>적극투자형</td>\n",
       "      <td>USD</td>\n",
       "    </tr>\n",
       "    <tr>\n",
       "      <th>4</th>\n",
       "      <td>2</td>\n",
       "      <td>48</td>\n",
       "      <td>블루</td>\n",
       "      <td>적극투자형</td>\n",
       "      <td>USD</td>\n",
       "    </tr>\n",
       "    <tr>\n",
       "      <th>...</th>\n",
       "      <td>...</td>\n",
       "      <td>...</td>\n",
       "      <td>...</td>\n",
       "      <td>...</td>\n",
       "      <td>...</td>\n",
       "    </tr>\n",
       "    <tr>\n",
       "      <th>29296</th>\n",
       "      <td>2</td>\n",
       "      <td>41</td>\n",
       "      <td>블루</td>\n",
       "      <td>안정추구형</td>\n",
       "      <td>USD</td>\n",
       "    </tr>\n",
       "    <tr>\n",
       "      <th>29297</th>\n",
       "      <td>2</td>\n",
       "      <td>41</td>\n",
       "      <td>블루</td>\n",
       "      <td>안정추구형</td>\n",
       "      <td>USD</td>\n",
       "    </tr>\n",
       "    <tr>\n",
       "      <th>29298</th>\n",
       "      <td>2</td>\n",
       "      <td>41</td>\n",
       "      <td>블루</td>\n",
       "      <td>안정추구형</td>\n",
       "      <td>USD</td>\n",
       "    </tr>\n",
       "    <tr>\n",
       "      <th>29299</th>\n",
       "      <td>2</td>\n",
       "      <td>41</td>\n",
       "      <td>블루</td>\n",
       "      <td>안정추구형</td>\n",
       "      <td>USD</td>\n",
       "    </tr>\n",
       "    <tr>\n",
       "      <th>29300</th>\n",
       "      <td>1</td>\n",
       "      <td>30</td>\n",
       "      <td>그린</td>\n",
       "      <td>위험중립형</td>\n",
       "      <td>USD</td>\n",
       "    </tr>\n",
       "  </tbody>\n",
       "</table>\n",
       "<p>29301 rows × 5 columns</p>\n",
       "</div>"
      ],
      "text/plain": [
       "       cus_age zip_ctp_cd tco_cus_grd_cd ivs_icn_cd cur_cd\n",
       "0            1         28             로얄      공격투자형    CNY\n",
       "1            1         43          등급 없음      적극투자형    USD\n",
       "2            1         43          등급 없음      적극투자형    USD\n",
       "3            1         41          등급 없음      적극투자형    USD\n",
       "4            2         48             블루      적극투자형    USD\n",
       "...        ...        ...            ...        ...    ...\n",
       "29296        2         41             블루      안정추구형    USD\n",
       "29297        2         41             블루      안정추구형    USD\n",
       "29298        2         41             블루      안정추구형    USD\n",
       "29299        2         41             블루      안정추구형    USD\n",
       "29300        1         30             그린      위험중립형    USD\n",
       "\n",
       "[29301 rows x 5 columns]"
      ]
     },
     "execution_count": 40,
     "metadata": {},
     "output_type": "execute_result"
    }
   ],
   "source": [
    "itac_Relation = iem_trd_act_cus_oss[['cus_age', 'zip_ctp_cd', 'tco_cus_grd_cd', 'ivs_icn_cd', 'cur_cd']]\n",
    "itac_Relation"
   ]
  },
  {
   "cell_type": "code",
   "execution_count": 41,
   "metadata": {},
   "outputs": [
    {
     "data": {
      "text/plain": [
       "<seaborn.axisgrid.PairGrid at 0x2580406f748>"
      ]
     },
     "execution_count": 41,
     "metadata": {},
     "output_type": "execute_result"
    },
    {
     "data": {
      "image/png": "[encoded data removed]",
      "text/plain": [
       "<Figure size 900x900 with 30 Axes>"
      ]
     },
     "metadata": {
      "needs_background": "light"
     },
     "output_type": "display_data"
    }
   ],
   "source": [
    "sns.pairplot(data = itac_Relation, vars=['cus_age', 'zip_ctp_cd', 'tco_cus_grd_cd', 'ivs_icn_cd', 'cur_cd'])"
   ]
  },
  {
   "cell_type": "markdown",
   "metadata": {},
   "source": [
    "### 세대별 거래통화코드 그래프"
   ]
  },
  {
   "cell_type": "code",
   "execution_count": 43,
   "metadata": {},
   "outputs": [
    {
     "data": {
      "text/plain": [
       "<AxesSubplot:xlabel='cur_cd', ylabel='count'>"
      ]
     },
     "execution_count": 43,
     "metadata": {},
     "output_type": "execute_result"
    },
    {
     "data": {
      "image/png": "[encoded data removed]",
      "text/plain": [
       "<Figure size 936x504 with 1 Axes>"
      ]
     },
     "metadata": {
      "needs_background": "light"
     },
     "output_type": "display_data"
    }
   ],
   "source": [
    "plt.figure(figsize=(13,7))\n",
    "sns.countplot(x='cur_cd', hue=\"cur_cd\",data=iem_trd_act_cus_oss)"
   ]
  },
  {
   "cell_type": "code",
   "execution_count": 42,
   "metadata": {},
   "outputs": [],
   "source": [
    "nonUS_x=iem_trd_act_cus_oss[(iem_trd_act_cus_oss['cur_cd']!='USD')&(iem_trd_act_cus_oss['cus_age']==0)]\n",
    "nonUS_y=iem_trd_act_cus_oss[(iem_trd_act_cus_oss['cur_cd']!='USD')&(iem_trd_act_cus_oss['cus_age']==1)]\n",
    "nonUS_z=iem_trd_act_cus_oss[(iem_trd_act_cus_oss['cur_cd']!='USD')&(iem_trd_act_cus_oss['cus_age']==2)]"
   ]
  },
  {
   "cell_type": "code",
   "execution_count": 44,
   "metadata": {},
   "outputs": [
    {
     "data": {
      "image/png": "[encoded data removed]",
      "text/plain": [
       "<Figure size 936x504 with 1 Axes>"
      ]
     },
     "metadata": {
      "needs_background": "light"
     },
     "output_type": "display_data"
    }
   ],
   "source": [
    "plt.figure(figsize=(13,7))\n",
    "sns.countplot(x='cur_cd', hue=\"cur_cd\",data=nonUS_x)\n",
    "plt.legend(loc='upper right')\n",
    "plt.show()"
   ]
  },
  {
   "cell_type": "code",
   "execution_count": 45,
   "metadata": {},
   "outputs": [
    {
     "data": {
      "image/png": "[encoded data removed]",
      "text/plain": [
       "<Figure size 936x504 with 1 Axes>"
      ]
     },
     "metadata": {
      "needs_background": "light"
     },
     "output_type": "display_data"
    }
   ],
   "source": [
    "plt.figure(figsize=(13,7))\n",
    "sns.countplot(x='cur_cd', hue=\"cur_cd\",data=nonUS_y)\n",
    "plt.legend(loc='upper right')\n",
    "plt.show()"
   ]
  },
  {
   "cell_type": "code",
   "execution_count": 46,
   "metadata": {},
   "outputs": [
    {
     "data": {
      "image/png": "[encoded data removed]",
      "text/plain": [
       "<Figure size 936x504 with 1 Axes>"
      ]
     },
     "metadata": {
      "needs_background": "light"
     },
     "output_type": "display_data"
    }
   ],
   "source": [
    "plt.figure(figsize=(13,7))\n",
    "sns.countplot(x='cur_cd', hue=\"cur_cd\",data=nonUS_z)\n",
    "plt.legend(loc='upper right')\n",
    "plt.show()"
   ]
  },
  {
   "cell_type": "markdown",
   "metadata": {},
   "source": [
    "> 단순 비교시, 달러(미국시장)가 압도적으로 거래량이 많아 이를 제외하고 세대별로 나누어보았습니다.  \n",
    "처음으로 가설과 일치하는 결과가 도출되었는데, X세대에선 위안 거래만 꽤 이루어졌고 Y,Z세대로 갈 수록 더 많은 통화를 사용해 거래한 것을 알 수 있습니다. 다른 세대와 달리 외국에 대한 정보를 빠르게 습득하며 자라 투자하려는 시장에 대해 넓은 시야를 가진 것이라 유추됩니다."
   ]
  },
  {
   "cell_type": "markdown",
   "metadata": {},
   "source": [
    "### 세대별 매도매수 개수 비교"
   ]
  },
  {
   "cell_type": "code",
   "execution_count": 47,
   "metadata": {},
   "outputs": [],
   "source": [
    "iem_trd_act_cus=iem_trd_act_cus.loc[:,['sby_dit_cd','cus_age']]"
   ]
  },
  {
   "cell_type": "code",
   "execution_count": 48,
   "metadata": {},
   "outputs": [
    {
     "data": {
      "text/plain": [
       "<AxesSubplot:xlabel='cus_age', ylabel='count'>"
      ]
     },
     "execution_count": 48,
     "metadata": {},
     "output_type": "execute_result"
    },
    {
     "data": {
      "image/png": "[encoded data removed]",
      "text/plain": [
       "<Figure size 936x504 with 1 Axes>"
      ]
     },
     "metadata": {
      "needs_background": "light"
     },
     "output_type": "display_data"
    }
   ],
   "source": [
    "# HUE 매도: 1, 매수: 2\n",
    "plt.figure(figsize=(13,7))\n",
    "sns.countplot(x='cus_age', hue=\"sby_dit_cd\",data=iem_trd_act_cus)"
   ]
  },
  {
   "cell_type": "markdown",
   "metadata": {},
   "source": [
    ">국내 주식장의 경우 일반적으로 단타매매(초단기간에 종목을 매매하는 매매법) 비율이 높아 모든 세대에서 매수, 매도량이 비슷할 것이라 예측했습니다. 허나 이 그래프로만 봤을 땐 매수량이 훨씬 많아 장기투자를 위해 꾸준히 매수하는 투자자가 있는 것이라 생각했으나 단타매매시 고점에서 매수하여 매도하지 못해 매수량이 더 많을 수도 있겠다는 생각을 하였습니다. 이를 결론내려면 관련된 분석이 더 필요할 것 같습니다."
   ]
  },
  {
   "cell_type": "markdown",
   "metadata": {},
   "source": [
    "### 바이오 관련 주 매매량 변화 - 삼성전자보통주와 비교  \n",
    "###### -주가 대폭락으로 저점 형성한 즈음인 2020년 3월 20일 기준으로 분리"
   ]
  },
  {
   "cell_type": "markdown",
   "metadata": {},
   "source": [
    "* trdkr_df, iem_df 병합"
   ]
  },
  {
   "cell_type": "code",
   "execution_count": 49,
   "metadata": {},
   "outputs": [],
   "source": [
    "trdkr_df2 = pd.read_csv('2_trd_kr.csv')\n",
    "\n",
    "trdkr_ieminfo = pd.merge(trdkr_df2, iem_df, how='inner', on='iem_cd')"
   ]
  },
  {
   "cell_type": "markdown",
   "metadata": {},
   "source": [
    "* 삼성전자보통주 데이터프레임 - it_trdkr"
   ]
  },
  {
   "cell_type": "code",
   "execution_count": 50,
   "metadata": {},
   "outputs": [],
   "source": [
    "it_trdkr=trdkr_ieminfo[(trdkr_ieminfo['iem_cd'].str.contains('A005930'))]"
   ]
  },
  {
   "cell_type": "markdown",
   "metadata": {},
   "source": [
    "* 바이오관련주 데이터프레임"
   ]
  },
  {
   "cell_type": "code",
   "execution_count": 70,
   "metadata": {},
   "outputs": [],
   "source": [
    "iem_trd = pd.merge(trdkr_df, iem_df, on='iem_cd', how='left')\n",
    "iem_trd_act = pd.merge(iem_trd, act_df, on='act_id', how='left')\n",
    "iem_trd_act_cus = pd.merge(iem_trd_act, cus_df, on='cus_id', how='left')\n",
    "\n",
    "bio_iem_trd_act_cus=iem_trd_act_cus[(iem_trd_act_cus['iem_cd'].str.contains('A196170')) | (iem_trd_act_cus['iem_cd'].str.contains('A226330'))\n",
    "                       | (iem_trd_act_cus['iem_cd'].str.contains('A068270')) | (iem_trd_act_cus['iem_cd'].str.contains('A096530')) \n",
    "                          | (iem_trd_act_cus['iem_cd'].str.contains('A215600')) | (iem_trd_act_cus['iem_cd'].str.contains('A019175'))\n",
    "                         | (iem_trd_act_cus['iem_cd'].str.contains('A207940')) | (iem_trd_act_cus['iem_cd'].str.contains('A052260'))\n",
    "                         | (iem_trd_act_cus['iem_cd'].str.contains('A068760')) | (iem_trd_act_cus['iem_cd'].str.contains('A091990'))]"
   ]
  },
  {
   "cell_type": "code",
   "execution_count": 71,
   "metadata": {},
   "outputs": [
    {
     "data": {
      "text/html": [
       "<div>\n",
       "<style scoped>\n",
       "    .dataframe tbody tr th:only-of-type {\n",
       "        vertical-align: middle;\n",
       "    }\n",
       "\n",
       "    .dataframe tbody tr th {\n",
       "        vertical-align: top;\n",
       "    }\n",
       "\n",
       "    .dataframe thead th {\n",
       "        text-align: right;\n",
       "    }\n",
       "</style>\n",
       "<table border=\"1\" class=\"dataframe\">\n",
       "  <thead>\n",
       "    <tr style=\"text-align: right;\">\n",
       "      <th></th>\n",
       "      <th>act_id</th>\n",
       "      <th>orr_dt</th>\n",
       "      <th>orr_ord</th>\n",
       "      <th>orr_rtn_hur</th>\n",
       "      <th>lst_cns_hur</th>\n",
       "      <th>iem_cd</th>\n",
       "      <th>sby_dit_cd</th>\n",
       "      <th>cns_qty</th>\n",
       "      <th>orr_pr</th>\n",
       "      <th>orr_mdi_dit_cd</th>\n",
       "      <th>iem_eng_nm</th>\n",
       "      <th>iem_krl_nm</th>\n",
       "      <th>cus_id</th>\n",
       "      <th>act_opn_ym</th>\n",
       "      <th>sex_dit_cd</th>\n",
       "      <th>cus_age</th>\n",
       "      <th>zip_ctp_cd</th>\n",
       "      <th>tco_cus_grd_cd</th>\n",
       "      <th>ivs_icn_cd</th>\n",
       "    </tr>\n",
       "  </thead>\n",
       "  <tbody>\n",
       "    <tr>\n",
       "      <th>0</th>\n",
       "      <td>6caf4de40251d37cbba310f0c6dd0ed8f4c7ca4ccfa675...</td>\n",
       "      <td>20190102</td>\n",
       "      <td>1</td>\n",
       "      <td>12</td>\n",
       "      <td>13</td>\n",
       "      <td>A215600</td>\n",
       "      <td>2</td>\n",
       "      <td>35.0</td>\n",
       "      <td>74200.0</td>\n",
       "      <td>3</td>\n",
       "      <td>SillaJen, Inc.                                ...</td>\n",
       "      <td>신라젠                                           ...</td>\n",
       "      <td>8eafaa5dc6eb52ada6b2d93ae1a0544f2c91e71667c945...</td>\n",
       "      <td>200512</td>\n",
       "      <td>1</td>\n",
       "      <td>55</td>\n",
       "      <td>11</td>\n",
       "      <td>02</td>\n",
       "      <td>05</td>\n",
       "    </tr>\n",
       "    <tr>\n",
       "      <th>18</th>\n",
       "      <td>e19e29daa0c3bec4f88c015f2b1d4578f46768fa5687fd...</td>\n",
       "      <td>20190102</td>\n",
       "      <td>4</td>\n",
       "      <td>13</td>\n",
       "      <td>13</td>\n",
       "      <td>A068270</td>\n",
       "      <td>2</td>\n",
       "      <td>20.0</td>\n",
       "      <td>214500.0</td>\n",
       "      <td>4</td>\n",
       "      <td>Celltrion                                     ...</td>\n",
       "      <td>셀트리온보통주                                       ...</td>\n",
       "      <td>4789cb0faddee22fd4fdcd6e262dbc387e4f762f3f5327...</td>\n",
       "      <td>201708</td>\n",
       "      <td>1</td>\n",
       "      <td>70</td>\n",
       "      <td>11</td>\n",
       "      <td>04</td>\n",
       "      <td>04</td>\n",
       "    </tr>\n",
       "    <tr>\n",
       "      <th>179</th>\n",
       "      <td>99832c8b75015523b8271819641ca0cb1e76e80b0efcd3...</td>\n",
       "      <td>20190109</td>\n",
       "      <td>1</td>\n",
       "      <td>9</td>\n",
       "      <td>9</td>\n",
       "      <td>A215600</td>\n",
       "      <td>1</td>\n",
       "      <td>60.0</td>\n",
       "      <td>69600.0</td>\n",
       "      <td>3</td>\n",
       "      <td>SillaJen, Inc.                                ...</td>\n",
       "      <td>신라젠                                           ...</td>\n",
       "      <td>cc57d81d8ff19f5ecf79d3d5ab188f780632977df43615...</td>\n",
       "      <td>199812</td>\n",
       "      <td>1</td>\n",
       "      <td>65</td>\n",
       "      <td>11</td>\n",
       "      <td>04</td>\n",
       "      <td>04</td>\n",
       "    </tr>\n",
       "    <tr>\n",
       "      <th>181</th>\n",
       "      <td>99832c8b75015523b8271819641ca0cb1e76e80b0efcd3...</td>\n",
       "      <td>20190109</td>\n",
       "      <td>3</td>\n",
       "      <td>10</td>\n",
       "      <td>10</td>\n",
       "      <td>A091990</td>\n",
       "      <td>1</td>\n",
       "      <td>30.0</td>\n",
       "      <td>72000.0</td>\n",
       "      <td>3</td>\n",
       "      <td>Celltrion Healthcare Co., Ltd.                ...</td>\n",
       "      <td>셀트리온헬스케어                                      ...</td>\n",
       "      <td>cc57d81d8ff19f5ecf79d3d5ab188f780632977df43615...</td>\n",
       "      <td>199812</td>\n",
       "      <td>1</td>\n",
       "      <td>65</td>\n",
       "      <td>11</td>\n",
       "      <td>04</td>\n",
       "      <td>04</td>\n",
       "    </tr>\n",
       "    <tr>\n",
       "      <th>182</th>\n",
       "      <td>99832c8b75015523b8271819641ca0cb1e76e80b0efcd3...</td>\n",
       "      <td>20190109</td>\n",
       "      <td>4</td>\n",
       "      <td>10</td>\n",
       "      <td>10</td>\n",
       "      <td>A068760</td>\n",
       "      <td>1</td>\n",
       "      <td>10.0</td>\n",
       "      <td>59900.0</td>\n",
       "      <td>3</td>\n",
       "      <td>Celltrion Pharm Inc.                          ...</td>\n",
       "      <td>셀트리온제약                                        ...</td>\n",
       "      <td>cc57d81d8ff19f5ecf79d3d5ab188f780632977df43615...</td>\n",
       "      <td>199812</td>\n",
       "      <td>1</td>\n",
       "      <td>65</td>\n",
       "      <td>11</td>\n",
       "      <td>04</td>\n",
       "      <td>04</td>\n",
       "    </tr>\n",
       "    <tr>\n",
       "      <th>...</th>\n",
       "      <td>...</td>\n",
       "      <td>...</td>\n",
       "      <td>...</td>\n",
       "      <td>...</td>\n",
       "      <td>...</td>\n",
       "      <td>...</td>\n",
       "      <td>...</td>\n",
       "      <td>...</td>\n",
       "      <td>...</td>\n",
       "      <td>...</td>\n",
       "      <td>...</td>\n",
       "      <td>...</td>\n",
       "      <td>...</td>\n",
       "      <td>...</td>\n",
       "      <td>...</td>\n",
       "      <td>...</td>\n",
       "      <td>...</td>\n",
       "      <td>...</td>\n",
       "      <td>...</td>\n",
       "    </tr>\n",
       "    <tr>\n",
       "      <th>3312547</th>\n",
       "      <td>71da099d88d3000d83c5ecc4a1e31a6ff780a70d240edf...</td>\n",
       "      <td>20200630</td>\n",
       "      <td>2</td>\n",
       "      <td>9</td>\n",
       "      <td>9</td>\n",
       "      <td>A068270</td>\n",
       "      <td>2</td>\n",
       "      <td>50.0</td>\n",
       "      <td>308500.0</td>\n",
       "      <td>3</td>\n",
       "      <td>Celltrion                                     ...</td>\n",
       "      <td>셀트리온보통주                                       ...</td>\n",
       "      <td>13fe074bdc3dedd24e3da8f463b14268a3b605cdf2dea3...</td>\n",
       "      <td>201709</td>\n",
       "      <td>1</td>\n",
       "      <td>60</td>\n",
       "      <td>28</td>\n",
       "      <td>01</td>\n",
       "      <td>05</td>\n",
       "    </tr>\n",
       "    <tr>\n",
       "      <th>3312548</th>\n",
       "      <td>71da099d88d3000d83c5ecc4a1e31a6ff780a70d240edf...</td>\n",
       "      <td>20200630</td>\n",
       "      <td>3</td>\n",
       "      <td>9</td>\n",
       "      <td>9</td>\n",
       "      <td>A068270</td>\n",
       "      <td>2</td>\n",
       "      <td>50.0</td>\n",
       "      <td>303500.0</td>\n",
       "      <td>3</td>\n",
       "      <td>Celltrion                                     ...</td>\n",
       "      <td>셀트리온보통주                                       ...</td>\n",
       "      <td>13fe074bdc3dedd24e3da8f463b14268a3b605cdf2dea3...</td>\n",
       "      <td>201709</td>\n",
       "      <td>1</td>\n",
       "      <td>60</td>\n",
       "      <td>28</td>\n",
       "      <td>01</td>\n",
       "      <td>05</td>\n",
       "    </tr>\n",
       "    <tr>\n",
       "      <th>3312549</th>\n",
       "      <td>71da099d88d3000d83c5ecc4a1e31a6ff780a70d240edf...</td>\n",
       "      <td>20200630</td>\n",
       "      <td>4</td>\n",
       "      <td>13</td>\n",
       "      <td>15</td>\n",
       "      <td>A068270</td>\n",
       "      <td>2</td>\n",
       "      <td>50.0</td>\n",
       "      <td>306000.0</td>\n",
       "      <td>3</td>\n",
       "      <td>Celltrion                                     ...</td>\n",
       "      <td>셀트리온보통주                                       ...</td>\n",
       "      <td>13fe074bdc3dedd24e3da8f463b14268a3b605cdf2dea3...</td>\n",
       "      <td>201709</td>\n",
       "      <td>1</td>\n",
       "      <td>60</td>\n",
       "      <td>28</td>\n",
       "      <td>01</td>\n",
       "      <td>05</td>\n",
       "    </tr>\n",
       "    <tr>\n",
       "      <th>3312550</th>\n",
       "      <td>71da099d88d3000d83c5ecc4a1e31a6ff780a70d240edf...</td>\n",
       "      <td>20200630</td>\n",
       "      <td>5</td>\n",
       "      <td>15</td>\n",
       "      <td>15</td>\n",
       "      <td>A068270</td>\n",
       "      <td>2</td>\n",
       "      <td>50.0</td>\n",
       "      <td>307500.0</td>\n",
       "      <td>3</td>\n",
       "      <td>Celltrion                                     ...</td>\n",
       "      <td>셀트리온보통주                                       ...</td>\n",
       "      <td>13fe074bdc3dedd24e3da8f463b14268a3b605cdf2dea3...</td>\n",
       "      <td>201709</td>\n",
       "      <td>1</td>\n",
       "      <td>60</td>\n",
       "      <td>28</td>\n",
       "      <td>01</td>\n",
       "      <td>05</td>\n",
       "    </tr>\n",
       "    <tr>\n",
       "      <th>3312661</th>\n",
       "      <td>c8d469612160df7251dd5d434ca25b0b8e2f40ace9a37f...</td>\n",
       "      <td>20200630</td>\n",
       "      <td>1</td>\n",
       "      <td>11</td>\n",
       "      <td>11</td>\n",
       "      <td>A019175</td>\n",
       "      <td>2</td>\n",
       "      <td>35.0</td>\n",
       "      <td>44000.0</td>\n",
       "      <td>3</td>\n",
       "      <td>ShinpoongPharmaceutical(1P)                   ...</td>\n",
       "      <td>신풍제약1우선주                                      ...</td>\n",
       "      <td>6fbe4b6f9d5c49c2e6ccd6b3d4ff18e2c5d370e29b2e13...</td>\n",
       "      <td>202005</td>\n",
       "      <td>2</td>\n",
       "      <td>30</td>\n",
       "      <td>11</td>\n",
       "      <td>_</td>\n",
       "      <td>-</td>\n",
       "    </tr>\n",
       "  </tbody>\n",
       "</table>\n",
       "<p>104844 rows × 19 columns</p>\n",
       "</div>"
      ],
      "text/plain": [
       "                                                    act_id    orr_dt  orr_ord  \\\n",
       "0        6caf4de40251d37cbba310f0c6dd0ed8f4c7ca4ccfa675...  20190102        1   \n",
       "18       e19e29daa0c3bec4f88c015f2b1d4578f46768fa5687fd...  20190102        4   \n",
       "179      99832c8b75015523b8271819641ca0cb1e76e80b0efcd3...  20190109        1   \n",
       "181      99832c8b75015523b8271819641ca0cb1e76e80b0efcd3...  20190109        3   \n",
       "182      99832c8b75015523b8271819641ca0cb1e76e80b0efcd3...  20190109        4   \n",
       "...                                                    ...       ...      ...   \n",
       "3312547  71da099d88d3000d83c5ecc4a1e31a6ff780a70d240edf...  20200630        2   \n",
       "3312548  71da099d88d3000d83c5ecc4a1e31a6ff780a70d240edf...  20200630        3   \n",
       "3312549  71da099d88d3000d83c5ecc4a1e31a6ff780a70d240edf...  20200630        4   \n",
       "3312550  71da099d88d3000d83c5ecc4a1e31a6ff780a70d240edf...  20200630        5   \n",
       "3312661  c8d469612160df7251dd5d434ca25b0b8e2f40ace9a37f...  20200630        1   \n",
       "\n",
       "         orr_rtn_hur  lst_cns_hur        iem_cd  sby_dit_cd  cns_qty  \\\n",
       "0                 12           13  A215600                2     35.0   \n",
       "18                13           13  A068270                2     20.0   \n",
       "179                9            9  A215600                1     60.0   \n",
       "181               10           10  A091990                1     30.0   \n",
       "182               10           10  A068760                1     10.0   \n",
       "...              ...          ...           ...         ...      ...   \n",
       "3312547            9            9  A068270                2     50.0   \n",
       "3312548            9            9  A068270                2     50.0   \n",
       "3312549           13           15  A068270                2     50.0   \n",
       "3312550           15           15  A068270                2     50.0   \n",
       "3312661           11           11  A019175                2     35.0   \n",
       "\n",
       "           orr_pr  orr_mdi_dit_cd  \\\n",
       "0         74200.0               3   \n",
       "18       214500.0               4   \n",
       "179       69600.0               3   \n",
       "181       72000.0               3   \n",
       "182       59900.0               3   \n",
       "...           ...             ...   \n",
       "3312547  308500.0               3   \n",
       "3312548  303500.0               3   \n",
       "3312549  306000.0               3   \n",
       "3312550  307500.0               3   \n",
       "3312661   44000.0               3   \n",
       "\n",
       "                                                iem_eng_nm  \\\n",
       "0        SillaJen, Inc.                                ...   \n",
       "18       Celltrion                                     ...   \n",
       "179      SillaJen, Inc.                                ...   \n",
       "181      Celltrion Healthcare Co., Ltd.                ...   \n",
       "182      Celltrion Pharm Inc.                          ...   \n",
       "...                                                    ...   \n",
       "3312547  Celltrion                                     ...   \n",
       "3312548  Celltrion                                     ...   \n",
       "3312549  Celltrion                                     ...   \n",
       "3312550  Celltrion                                     ...   \n",
       "3312661  ShinpoongPharmaceutical(1P)                   ...   \n",
       "\n",
       "                                                iem_krl_nm  \\\n",
       "0        신라젠                                           ...   \n",
       "18       셀트리온보통주                                       ...   \n",
       "179      신라젠                                           ...   \n",
       "181      셀트리온헬스케어                                      ...   \n",
       "182      셀트리온제약                                        ...   \n",
       "...                                                    ...   \n",
       "3312547  셀트리온보통주                                       ...   \n",
       "3312548  셀트리온보통주                                       ...   \n",
       "3312549  셀트리온보통주                                       ...   \n",
       "3312550  셀트리온보통주                                       ...   \n",
       "3312661  신풍제약1우선주                                      ...   \n",
       "\n",
       "                                                    cus_id  act_opn_ym  \\\n",
       "0        8eafaa5dc6eb52ada6b2d93ae1a0544f2c91e71667c945...      200512   \n",
       "18       4789cb0faddee22fd4fdcd6e262dbc387e4f762f3f5327...      201708   \n",
       "179      cc57d81d8ff19f5ecf79d3d5ab188f780632977df43615...      199812   \n",
       "181      cc57d81d8ff19f5ecf79d3d5ab188f780632977df43615...      199812   \n",
       "182      cc57d81d8ff19f5ecf79d3d5ab188f780632977df43615...      199812   \n",
       "...                                                    ...         ...   \n",
       "3312547  13fe074bdc3dedd24e3da8f463b14268a3b605cdf2dea3...      201709   \n",
       "3312548  13fe074bdc3dedd24e3da8f463b14268a3b605cdf2dea3...      201709   \n",
       "3312549  13fe074bdc3dedd24e3da8f463b14268a3b605cdf2dea3...      201709   \n",
       "3312550  13fe074bdc3dedd24e3da8f463b14268a3b605cdf2dea3...      201709   \n",
       "3312661  6fbe4b6f9d5c49c2e6ccd6b3d4ff18e2c5d370e29b2e13...      202005   \n",
       "\n",
       "         sex_dit_cd  cus_age zip_ctp_cd tco_cus_grd_cd ivs_icn_cd  \n",
       "0                 1       55         11             02         05  \n",
       "18                1       70         11             04         04  \n",
       "179               1       65         11             04         04  \n",
       "181               1       65         11             04         04  \n",
       "182               1       65         11             04         04  \n",
       "...             ...      ...        ...            ...        ...  \n",
       "3312547           1       60         28             01         05  \n",
       "3312548           1       60         28             01         05  \n",
       "3312549           1       60         28             01         05  \n",
       "3312550           1       60         28             01         05  \n",
       "3312661           2       30         11             _           -  \n",
       "\n",
       "[104844 rows x 19 columns]"
      ]
     },
     "execution_count": 71,
     "metadata": {},
     "output_type": "execute_result"
    }
   ],
   "source": [
    "bio_iem_trd_act_cus"
   ]
  },
  {
   "cell_type": "markdown",
   "metadata": {},
   "source": [
    "* it_trdkr에서 '2020/03/20 이전=before, 2020/03/20 이후=after' 로 새 컬럼을 추가한 it_trd_orrdt 생성"
   ]
  },
  {
   "cell_type": "code",
   "execution_count": 57,
   "metadata": {},
   "outputs": [
    {
     "name": "stderr",
     "output_type": "stream",
     "text": [
      "C:\\Anaconda3\\envs\\myenv\\lib\\site-packages\\ipykernel_launcher.py:4: SettingWithCopyWarning: \n",
      "A value is trying to be set on a copy of a slice from a DataFrame.\n",
      "Try using .loc[row_indexer,col_indexer] = value instead\n",
      "\n",
      "See the caveats in the documentation: https://pandas.pydata.org/pandas-docs/stable/user_guide/indexing.html#returning-a-view-versus-a-copy\n",
      "  after removing the cwd from sys.path.\n",
      "C:\\Anaconda3\\envs\\myenv\\lib\\site-packages\\ipykernel_launcher.py:8: SettingWithCopyWarning: \n",
      "A value is trying to be set on a copy of a slice from a DataFrame.\n",
      "Try using .loc[row_indexer,col_indexer] = value instead\n",
      "\n",
      "See the caveats in the documentation: https://pandas.pydata.org/pandas-docs/stable/user_guide/indexing.html#returning-a-view-versus-a-copy\n",
      "  \n"
     ]
    }
   ],
   "source": [
    "# 2020/03/20 이전=before, 2020/03/20 이후=after\n",
    "b_it_trd=it_trdkr[(it_trdkr['orr_dt']<20200320)]\n",
    "date='before'\n",
    "b_it_trd['date']=date\n",
    "\n",
    "a_it_trd=it_trdkr[(it_trdkr['orr_dt']>=20200320)]\n",
    "date='after'\n",
    "a_it_trd['date']=date\n",
    "\n",
    "it_trd_orrdt=pd.concat([b_it_trd,a_it_trd],ignore_index=True)"
   ]
  },
  {
   "cell_type": "markdown",
   "metadata": {},
   "source": [
    "* bio_trdkr에서 '2020/03/20 이전=before, 2020/03/20 이후=after' 로 새 컬럼을 추가한 bio_trd_orrdt 생성"
   ]
  },
  {
   "cell_type": "code",
   "execution_count": 53,
   "metadata": {},
   "outputs": [
    {
     "name": "stderr",
     "output_type": "stream",
     "text": [
      "C:\\Anaconda3\\envs\\myenv\\lib\\site-packages\\ipykernel_launcher.py:4: SettingWithCopyWarning: \n",
      "A value is trying to be set on a copy of a slice from a DataFrame.\n",
      "Try using .loc[row_indexer,col_indexer] = value instead\n",
      "\n",
      "See the caveats in the documentation: https://pandas.pydata.org/pandas-docs/stable/user_guide/indexing.html#returning-a-view-versus-a-copy\n",
      "  after removing the cwd from sys.path.\n",
      "C:\\Anaconda3\\envs\\myenv\\lib\\site-packages\\ipykernel_launcher.py:8: SettingWithCopyWarning: \n",
      "A value is trying to be set on a copy of a slice from a DataFrame.\n",
      "Try using .loc[row_indexer,col_indexer] = value instead\n",
      "\n",
      "See the caveats in the documentation: https://pandas.pydata.org/pandas-docs/stable/user_guide/indexing.html#returning-a-view-versus-a-copy\n",
      "  \n"
     ]
    },
    {
     "data": {
      "text/html": [
       "<div>\n",
       "<style scoped>\n",
       "    .dataframe tbody tr th:only-of-type {\n",
       "        vertical-align: middle;\n",
       "    }\n",
       "\n",
       "    .dataframe tbody tr th {\n",
       "        vertical-align: top;\n",
       "    }\n",
       "\n",
       "    .dataframe thead th {\n",
       "        text-align: right;\n",
       "    }\n",
       "</style>\n",
       "<table border=\"1\" class=\"dataframe\">\n",
       "  <thead>\n",
       "    <tr style=\"text-align: right;\">\n",
       "      <th></th>\n",
       "      <th>act_id</th>\n",
       "      <th>orr_dt</th>\n",
       "      <th>orr_ord</th>\n",
       "      <th>orr_rtn_hur</th>\n",
       "      <th>lst_cns_hur</th>\n",
       "      <th>iem_cd</th>\n",
       "      <th>sby_dit_cd</th>\n",
       "      <th>cns_qty</th>\n",
       "      <th>orr_pr</th>\n",
       "      <th>orr_mdi_dit_cd</th>\n",
       "      <th>iem_eng_nm</th>\n",
       "      <th>iem_krl_nm</th>\n",
       "      <th>date</th>\n",
       "    </tr>\n",
       "  </thead>\n",
       "  <tbody>\n",
       "    <tr>\n",
       "      <th>0</th>\n",
       "      <td>6caf4de40251d37cbba310f0c6dd0ed8f4c7ca4ccfa675...</td>\n",
       "      <td>20190102</td>\n",
       "      <td>1</td>\n",
       "      <td>12</td>\n",
       "      <td>13</td>\n",
       "      <td>A215600</td>\n",
       "      <td>2</td>\n",
       "      <td>35.0</td>\n",
       "      <td>74200.0</td>\n",
       "      <td>3</td>\n",
       "      <td>SillaJen, Inc.                                ...</td>\n",
       "      <td>신라젠                                           ...</td>\n",
       "      <td>before</td>\n",
       "    </tr>\n",
       "    <tr>\n",
       "      <th>1</th>\n",
       "      <td>99832c8b75015523b8271819641ca0cb1e76e80b0efcd3...</td>\n",
       "      <td>20190109</td>\n",
       "      <td>1</td>\n",
       "      <td>9</td>\n",
       "      <td>9</td>\n",
       "      <td>A215600</td>\n",
       "      <td>1</td>\n",
       "      <td>60.0</td>\n",
       "      <td>69600.0</td>\n",
       "      <td>3</td>\n",
       "      <td>SillaJen, Inc.                                ...</td>\n",
       "      <td>신라젠                                           ...</td>\n",
       "      <td>before</td>\n",
       "    </tr>\n",
       "    <tr>\n",
       "      <th>2</th>\n",
       "      <td>f6cb82c9546db9be22435f9182dd7832b8d76a5271eded...</td>\n",
       "      <td>20190110</td>\n",
       "      <td>1</td>\n",
       "      <td>8</td>\n",
       "      <td>9</td>\n",
       "      <td>A215600</td>\n",
       "      <td>2</td>\n",
       "      <td>5.0</td>\n",
       "      <td>70500.0</td>\n",
       "      <td>3</td>\n",
       "      <td>SillaJen, Inc.                                ...</td>\n",
       "      <td>신라젠                                           ...</td>\n",
       "      <td>before</td>\n",
       "    </tr>\n",
       "    <tr>\n",
       "      <th>3</th>\n",
       "      <td>f6cb82c9546db9be22435f9182dd7832b8d76a5271eded...</td>\n",
       "      <td>20190110</td>\n",
       "      <td>2</td>\n",
       "      <td>11</td>\n",
       "      <td>11</td>\n",
       "      <td>A215600</td>\n",
       "      <td>2</td>\n",
       "      <td>1.0</td>\n",
       "      <td>70800.0</td>\n",
       "      <td>3</td>\n",
       "      <td>SillaJen, Inc.                                ...</td>\n",
       "      <td>신라젠                                           ...</td>\n",
       "      <td>before</td>\n",
       "    </tr>\n",
       "    <tr>\n",
       "      <th>4</th>\n",
       "      <td>c43802c61bd7768e656a4bf71336bdab79f56406297ad1...</td>\n",
       "      <td>20190117</td>\n",
       "      <td>1</td>\n",
       "      <td>13</td>\n",
       "      <td>13</td>\n",
       "      <td>A215600</td>\n",
       "      <td>2</td>\n",
       "      <td>26.0</td>\n",
       "      <td>67800.0</td>\n",
       "      <td>3</td>\n",
       "      <td>SillaJen, Inc.                                ...</td>\n",
       "      <td>신라젠                                           ...</td>\n",
       "      <td>before</td>\n",
       "    </tr>\n",
       "    <tr>\n",
       "      <th>...</th>\n",
       "      <td>...</td>\n",
       "      <td>...</td>\n",
       "      <td>...</td>\n",
       "      <td>...</td>\n",
       "      <td>...</td>\n",
       "      <td>...</td>\n",
       "      <td>...</td>\n",
       "      <td>...</td>\n",
       "      <td>...</td>\n",
       "      <td>...</td>\n",
       "      <td>...</td>\n",
       "      <td>...</td>\n",
       "      <td>...</td>\n",
       "    </tr>\n",
       "    <tr>\n",
       "      <th>104839</th>\n",
       "      <td>80b45c79fd320df00113aad22820bc522bc15e1b1a039e...</td>\n",
       "      <td>20200609</td>\n",
       "      <td>116</td>\n",
       "      <td>14</td>\n",
       "      <td>14</td>\n",
       "      <td>A019175</td>\n",
       "      <td>1</td>\n",
       "      <td>38.0</td>\n",
       "      <td>46750.0</td>\n",
       "      <td>3</td>\n",
       "      <td>ShinpoongPharmaceutical(1P)                   ...</td>\n",
       "      <td>신풍제약1우선주                                      ...</td>\n",
       "      <td>after</td>\n",
       "    </tr>\n",
       "    <tr>\n",
       "      <th>104840</th>\n",
       "      <td>80b45c79fd320df00113aad22820bc522bc15e1b1a039e...</td>\n",
       "      <td>20200609</td>\n",
       "      <td>117</td>\n",
       "      <td>14</td>\n",
       "      <td>14</td>\n",
       "      <td>A019175</td>\n",
       "      <td>1</td>\n",
       "      <td>31.0</td>\n",
       "      <td>46900.0</td>\n",
       "      <td>3</td>\n",
       "      <td>ShinpoongPharmaceutical(1P)                   ...</td>\n",
       "      <td>신풍제약1우선주                                      ...</td>\n",
       "      <td>after</td>\n",
       "    </tr>\n",
       "    <tr>\n",
       "      <th>104841</th>\n",
       "      <td>80b45c79fd320df00113aad22820bc522bc15e1b1a039e...</td>\n",
       "      <td>20200609</td>\n",
       "      <td>120</td>\n",
       "      <td>14</td>\n",
       "      <td>14</td>\n",
       "      <td>A019175</td>\n",
       "      <td>2</td>\n",
       "      <td>10.0</td>\n",
       "      <td>46750.0</td>\n",
       "      <td>3</td>\n",
       "      <td>ShinpoongPharmaceutical(1P)                   ...</td>\n",
       "      <td>신풍제약1우선주                                      ...</td>\n",
       "      <td>after</td>\n",
       "    </tr>\n",
       "    <tr>\n",
       "      <th>104842</th>\n",
       "      <td>80b45c79fd320df00113aad22820bc522bc15e1b1a039e...</td>\n",
       "      <td>20200609</td>\n",
       "      <td>125</td>\n",
       "      <td>14</td>\n",
       "      <td>14</td>\n",
       "      <td>A019175</td>\n",
       "      <td>1</td>\n",
       "      <td>10.0</td>\n",
       "      <td>46950.0</td>\n",
       "      <td>3</td>\n",
       "      <td>ShinpoongPharmaceutical(1P)                   ...</td>\n",
       "      <td>신풍제약1우선주                                      ...</td>\n",
       "      <td>after</td>\n",
       "    </tr>\n",
       "    <tr>\n",
       "      <th>104843</th>\n",
       "      <td>c8d469612160df7251dd5d434ca25b0b8e2f40ace9a37f...</td>\n",
       "      <td>20200630</td>\n",
       "      <td>1</td>\n",
       "      <td>11</td>\n",
       "      <td>11</td>\n",
       "      <td>A019175</td>\n",
       "      <td>2</td>\n",
       "      <td>35.0</td>\n",
       "      <td>44000.0</td>\n",
       "      <td>3</td>\n",
       "      <td>ShinpoongPharmaceutical(1P)                   ...</td>\n",
       "      <td>신풍제약1우선주                                      ...</td>\n",
       "      <td>after</td>\n",
       "    </tr>\n",
       "  </tbody>\n",
       "</table>\n",
       "<p>104844 rows × 13 columns</p>\n",
       "</div>"
      ],
      "text/plain": [
       "                                                   act_id    orr_dt  orr_ord  \\\n",
       "0       6caf4de40251d37cbba310f0c6dd0ed8f4c7ca4ccfa675...  20190102        1   \n",
       "1       99832c8b75015523b8271819641ca0cb1e76e80b0efcd3...  20190109        1   \n",
       "2       f6cb82c9546db9be22435f9182dd7832b8d76a5271eded...  20190110        1   \n",
       "3       f6cb82c9546db9be22435f9182dd7832b8d76a5271eded...  20190110        2   \n",
       "4       c43802c61bd7768e656a4bf71336bdab79f56406297ad1...  20190117        1   \n",
       "...                                                   ...       ...      ...   \n",
       "104839  80b45c79fd320df00113aad22820bc522bc15e1b1a039e...  20200609      116   \n",
       "104840  80b45c79fd320df00113aad22820bc522bc15e1b1a039e...  20200609      117   \n",
       "104841  80b45c79fd320df00113aad22820bc522bc15e1b1a039e...  20200609      120   \n",
       "104842  80b45c79fd320df00113aad22820bc522bc15e1b1a039e...  20200609      125   \n",
       "104843  c8d469612160df7251dd5d434ca25b0b8e2f40ace9a37f...  20200630        1   \n",
       "\n",
       "        orr_rtn_hur  lst_cns_hur        iem_cd  sby_dit_cd  cns_qty   orr_pr  \\\n",
       "0                12           13  A215600                2     35.0  74200.0   \n",
       "1                 9            9  A215600                1     60.0  69600.0   \n",
       "2                 8            9  A215600                2      5.0  70500.0   \n",
       "3                11           11  A215600                2      1.0  70800.0   \n",
       "4                13           13  A215600                2     26.0  67800.0   \n",
       "...             ...          ...           ...         ...      ...      ...   \n",
       "104839           14           14  A019175                1     38.0  46750.0   \n",
       "104840           14           14  A019175                1     31.0  46900.0   \n",
       "104841           14           14  A019175                2     10.0  46750.0   \n",
       "104842           14           14  A019175                1     10.0  46950.0   \n",
       "104843           11           11  A019175                2     35.0  44000.0   \n",
       "\n",
       "        orr_mdi_dit_cd                                         iem_eng_nm  \\\n",
       "0                    3  SillaJen, Inc.                                ...   \n",
       "1                    3  SillaJen, Inc.                                ...   \n",
       "2                    3  SillaJen, Inc.                                ...   \n",
       "3                    3  SillaJen, Inc.                                ...   \n",
       "4                    3  SillaJen, Inc.                                ...   \n",
       "...                ...                                                ...   \n",
       "104839               3  ShinpoongPharmaceutical(1P)                   ...   \n",
       "104840               3  ShinpoongPharmaceutical(1P)                   ...   \n",
       "104841               3  ShinpoongPharmaceutical(1P)                   ...   \n",
       "104842               3  ShinpoongPharmaceutical(1P)                   ...   \n",
       "104843               3  ShinpoongPharmaceutical(1P)                   ...   \n",
       "\n",
       "                                               iem_krl_nm    date  \n",
       "0       신라젠                                           ...  before  \n",
       "1       신라젠                                           ...  before  \n",
       "2       신라젠                                           ...  before  \n",
       "3       신라젠                                           ...  before  \n",
       "4       신라젠                                           ...  before  \n",
       "...                                                   ...     ...  \n",
       "104839  신풍제약1우선주                                      ...   after  \n",
       "104840  신풍제약1우선주                                      ...   after  \n",
       "104841  신풍제약1우선주                                      ...   after  \n",
       "104842  신풍제약1우선주                                      ...   after  \n",
       "104843  신풍제약1우선주                                      ...   after  \n",
       "\n",
       "[104844 rows x 13 columns]"
      ]
     },
     "execution_count": 53,
     "metadata": {},
     "output_type": "execute_result"
    }
   ],
   "source": [
    "# 2020/03/20 이전=before, 2020/03/20 이후=after\n",
    "b_trd=bio_trdkr[(bio_trdkr['orr_dt']<20200320)]\n",
    "date='before'\n",
    "b_trd['date']=date\n",
    "\n",
    "a_trd=bio_trdkr[(bio_trdkr['orr_dt']>=20200320)]\n",
    "date='after'\n",
    "a_trd['date']=date\n",
    "\n",
    "bio_trd_orrdt=pd.concat([b_trd,a_trd],ignore_index=True)\n",
    "bio_trd_orrdt"
   ]
  },
  {
   "cell_type": "markdown",
   "metadata": {},
   "source": [
    "### 매매량 변화 - 위: 삼성전자보통주, 아래: 바이오관련주(셀트리온 외 9개)"
   ]
  },
  {
   "cell_type": "code",
   "execution_count": 54,
   "metadata": {},
   "outputs": [
    {
     "data": {
      "text/plain": [
       "<AxesSubplot:xlabel='date', ylabel='count'>"
      ]
     },
     "execution_count": 54,
     "metadata": {},
     "output_type": "execute_result"
    },
    {
     "data": {
      "image/png": "[encoded data removed]",
      "text/plain": [
       "<Figure size 1440x720 with 1 Axes>"
      ]
     },
     "metadata": {
      "needs_background": "light"
     },
     "output_type": "display_data"
    }
   ],
   "source": [
    "plt.figure(figsize=(20,10))\n",
    "sns.countplot(x=\"date\", hue=\"sby_dit_cd\",data=it_trd_orrdt)\n",
    "# x축 before, after - Hue 매도=1, 매수=2"
   ]
  },
  {
   "cell_type": "code",
   "execution_count": 55,
   "metadata": {},
   "outputs": [
    {
     "data": {
      "text/plain": [
       "<AxesSubplot:xlabel='date', ylabel='count'>"
      ]
     },
     "execution_count": 55,
     "metadata": {},
     "output_type": "execute_result"
    },
    {
     "data": {
      "image/png": "[encoded data removed]",
      "text/plain": [
       "<Figure size 1440x720 with 1 Axes>"
      ]
     },
     "metadata": {
      "needs_background": "light"
     },
     "output_type": "display_data"
    }
   ],
   "source": [
    "plt.figure(figsize=(20,10))\n",
    "sns.countplot(x=\"date\", hue=\"sby_dit_cd\",data=bio_trd_orrdt)\n",
    "# x축 before, after - Hue 매도=1, 매수=2"
   ]
  },
  {
   "cell_type": "markdown",
   "metadata": {},
   "source": [
    ">코로나 사태 이후 바이오주에 대한 관심이 커졌으리라 생각하여 기점인 2020/03/20 전후로 바이오주 거래량을 비교해보았습니다. 대조군으로 삼성전자를 두고 진행한 결과, 별 차이가 없는 삼성전자에 비해 바이오 우량주 집단은 매수량이 눈에 띄게 증가하였습니다. "
   ]
  },
  {
   "cell_type": "markdown",
   "metadata": {},
   "source": [
    "### 세대별 코로나 저점 전후 바이오주 매매 비교"
   ]
  },
  {
   "cell_type": "code",
   "execution_count": 118,
   "metadata": {},
   "outputs": [],
   "source": [
    "#Z세대 2, Y세대 1, 그 이전 세대 0\n",
    "bio_iem_trd_act_cus=bio_iem_trd_act_cus.loc[:,['sby_dit_cd','cus_age','orr_dt']]\n",
    "cus_gen={0:2,5:2,10:2,15:2,20:2,25:2,30:1,35:1,40:1,45:0,50:0,55:0,60:0,65:0,70:0,}\n",
    "bio_iem_trd_act_cus=bio_iem_trd_act_cus.replace({'cus_age': cus_gen})"
   ]
  },
  {
   "cell_type": "code",
   "execution_count": 92,
   "metadata": {},
   "outputs": [
    {
     "name": "stderr",
     "output_type": "stream",
     "text": [
      "C:\\Anaconda3\\envs\\myenv\\lib\\site-packages\\ipykernel_launcher.py:5: SettingWithCopyWarning: \n",
      "A value is trying to be set on a copy of a slice from a DataFrame.\n",
      "Try using .loc[row_indexer,col_indexer] = value instead\n",
      "\n",
      "See the caveats in the documentation: https://pandas.pydata.org/pandas-docs/stable/user_guide/indexing.html#returning-a-view-versus-a-copy\n",
      "  \"\"\"\n"
     ]
    }
   ],
   "source": [
    "bio_iem_trd_act_cus_b=bio_iem_trd_act_cus\n",
    "\n",
    "bio_iem_trd_act_cus=bio_iem_trd_act_cus[(bio_iem_trd_act_cus['orr_dt']>20200320)]\n",
    "date='after'\n",
    "bio_iem_trd_act_cus['date']=date\n",
    "\n",
    "bio_iem_trd_act_cus_b=bio_iem_trd_act_cus_b[(bio_iem_trd_act_cus_b['orr_dt']<=20200320)]\n",
    "date='before'\n",
    "bio_iem_trd_act_cus_b['date']=date"
   ]
  },
  {
   "cell_type": "code",
   "execution_count": 112,
   "metadata": {},
   "outputs": [
    {
     "data": {
      "text/html": [
       "<div>\n",
       "<style scoped>\n",
       "    .dataframe tbody tr th:only-of-type {\n",
       "        vertical-align: middle;\n",
       "    }\n",
       "\n",
       "    .dataframe tbody tr th {\n",
       "        vertical-align: top;\n",
       "    }\n",
       "\n",
       "    .dataframe thead th {\n",
       "        text-align: right;\n",
       "    }\n",
       "</style>\n",
       "<table border=\"1\" class=\"dataframe\">\n",
       "  <thead>\n",
       "    <tr style=\"text-align: right;\">\n",
       "      <th></th>\n",
       "      <th>sby_dit_cd</th>\n",
       "      <th>cus_age</th>\n",
       "      <th>date</th>\n",
       "    </tr>\n",
       "  </thead>\n",
       "  <tbody>\n",
       "    <tr>\n",
       "      <th>0</th>\n",
       "      <td>2</td>\n",
       "      <td>0</td>\n",
       "      <td>after</td>\n",
       "    </tr>\n",
       "    <tr>\n",
       "      <th>1</th>\n",
       "      <td>1</td>\n",
       "      <td>0</td>\n",
       "      <td>after</td>\n",
       "    </tr>\n",
       "    <tr>\n",
       "      <th>2</th>\n",
       "      <td>1</td>\n",
       "      <td>0</td>\n",
       "      <td>after</td>\n",
       "    </tr>\n",
       "    <tr>\n",
       "      <th>3</th>\n",
       "      <td>1</td>\n",
       "      <td>0</td>\n",
       "      <td>after</td>\n",
       "    </tr>\n",
       "    <tr>\n",
       "      <th>4</th>\n",
       "      <td>1</td>\n",
       "      <td>0</td>\n",
       "      <td>after</td>\n",
       "    </tr>\n",
       "    <tr>\n",
       "      <th>...</th>\n",
       "      <td>...</td>\n",
       "      <td>...</td>\n",
       "      <td>...</td>\n",
       "    </tr>\n",
       "    <tr>\n",
       "      <th>104839</th>\n",
       "      <td>1</td>\n",
       "      <td>1</td>\n",
       "      <td>before</td>\n",
       "    </tr>\n",
       "    <tr>\n",
       "      <th>104840</th>\n",
       "      <td>2</td>\n",
       "      <td>1</td>\n",
       "      <td>before</td>\n",
       "    </tr>\n",
       "    <tr>\n",
       "      <th>104841</th>\n",
       "      <td>1</td>\n",
       "      <td>0</td>\n",
       "      <td>before</td>\n",
       "    </tr>\n",
       "    <tr>\n",
       "      <th>104842</th>\n",
       "      <td>2</td>\n",
       "      <td>0</td>\n",
       "      <td>before</td>\n",
       "    </tr>\n",
       "    <tr>\n",
       "      <th>104843</th>\n",
       "      <td>2</td>\n",
       "      <td>0</td>\n",
       "      <td>before</td>\n",
       "    </tr>\n",
       "  </tbody>\n",
       "</table>\n",
       "<p>104844 rows × 3 columns</p>\n",
       "</div>"
      ],
      "text/plain": [
       "        sby_dit_cd  cus_age    date\n",
       "0                2        0   after\n",
       "1                1        0   after\n",
       "2                1        0   after\n",
       "3                1        0   after\n",
       "4                1        0   after\n",
       "...            ...      ...     ...\n",
       "104839           1        1  before\n",
       "104840           2        1  before\n",
       "104841           1        0  before\n",
       "104842           2        0  before\n",
       "104843           2        0  before\n",
       "\n",
       "[104844 rows x 3 columns]"
      ]
     },
     "execution_count": 112,
     "metadata": {},
     "output_type": "execute_result"
    }
   ],
   "source": [
    "bio_gen=pd.concat([bio_iem_trd_act_cus,bio_iem_trd_act_cus_b],ignore_index=True)\n",
    "bio_gen.drop('orr_dt',axis=1)"
   ]
  },
  {
   "cell_type": "code",
   "execution_count": 113,
   "metadata": {},
   "outputs": [
    {
     "data": {
      "text/plain": [
       "<AxesSubplot:xlabel='date', ylabel='count'>"
      ]
     },
     "execution_count": 113,
     "metadata": {},
     "output_type": "execute_result"
    },
    {
     "data": {
      "image/png": "[encoded data removed]",
      "text/plain": [
       "<Figure size 1440x720 with 1 Axes>"
      ]
     },
     "metadata": {
      "needs_background": "light"
     },
     "output_type": "display_data"
    }
   ],
   "source": [
    "plt.figure(figsize=(20,10))\n",
    "sns.countplot(x=\"date\", hue=\"cus_age\",data=bio_gen)"
   ]
  },
  {
   "cell_type": "markdown",
   "metadata": {},
   "source": [
    ">모든 세대에서 매매량이 증가했으나, YZ세대의 비율이 눈에 띄게 상승한 것을 볼 수 있습니다."
   ]
  },
  {
   "cell_type": "code",
   "execution_count": 124,
   "metadata": {},
   "outputs": [
    {
     "data": {
      "text/html": [
       "<div>\n",
       "<style scoped>\n",
       "    .dataframe tbody tr th:only-of-type {\n",
       "        vertical-align: middle;\n",
       "    }\n",
       "\n",
       "    .dataframe tbody tr th {\n",
       "        vertical-align: top;\n",
       "    }\n",
       "\n",
       "    .dataframe thead th {\n",
       "        text-align: right;\n",
       "    }\n",
       "</style>\n",
       "<table border=\"1\" class=\"dataframe\">\n",
       "  <thead>\n",
       "    <tr style=\"text-align: right;\">\n",
       "      <th></th>\n",
       "      <th>time</th>\n",
       "      <th>team</th>\n",
       "      <th>join</th>\n",
       "    </tr>\n",
       "  </thead>\n",
       "  <tbody>\n",
       "    <tr>\n",
       "      <th>0</th>\n",
       "      <td>1</td>\n",
       "      <td>1</td>\n",
       "      <td>1</td>\n",
       "    </tr>\n",
       "  </tbody>\n",
       "</table>\n",
       "</div>"
      ],
      "text/plain": [
       "   time  team  join\n",
       "0     1     1     1"
      ]
     },
     "execution_count": 124,
     "metadata": {},
     "output_type": "execute_result"
    }
   ],
   "source": [
    "submission_path = os.path.dirname(os.path.abspath('__file__'))\n",
    "submission_path = os.path.join(submission_path, 'submission.csv')\n",
    "submission = pd.read_csv(submission_path)\n",
    "submission.head()"
   ]
  },
  {
   "cell_type": "code",
   "execution_count": 127,
   "metadata": {},
   "outputs": [],
   "source": [
    "import pandas as pd\n",
    "data = pd.read_csv('submission.csv', engine='python')\n",
    "data.to_csv('submission3.csv', index=False)"
   ]
  },
  {
   "cell_type": "markdown",
   "metadata": {},
   "source": [
    "#### 소감\n",
    "데이터 분석에 대해 더 이해하며, 주식에 대한 흥미로운 결과를 많이 도출할 수 있어서 유익한 시간이었습니다. 급하게 준비한지라 생각했던 아이디어를 모두 구현하지 못했다는 아쉬움이 남지만, 이 경험을 계기로 주식과 관련한 여러 데이터셋을 찾아 제대로 모두 구현해보고 더 많은 분석을 해보겠다는 의욕을 다지게 되었습니다."
   ]
  }
 ],
 "metadata": {
  "kernelspec": {
   "display_name": "Python 3",
   "language": "python",
   "name": "python3"
  },
  "language_info": {
   "codemirror_mode": {
    "name": "ipython",
    "version": 3
   },
   "file_extension": ".py",
   "mimetype": "text/x-python",
   "name": "python",
   "nbconvert_exporter": "python",
   "pygments_lexer": "ipython3",
   "version": "3.6.12"
  }
 },
 "nbformat": 4,
 "nbformat_minor": 4
}
